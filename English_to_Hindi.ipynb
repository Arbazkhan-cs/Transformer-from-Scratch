{
 "cells": [
  {
   "cell_type": "markdown",
   "metadata": {
    "id": "BTu8gn9rPWkT"
   },
   "source": [
    "## Import Neccessary Libraries"
   ]
  },
  {
   "cell_type": "code",
   "execution_count": null,
   "metadata": {
    "id": "5fgXTdkZO5nd"
   },
   "outputs": [],
   "source": [
    "from transformer import *\n",
    "import numpy as np\n",
    "from torch.utils.data import Dataset, DataLoader\n",
    "import torch\n",
    "import torch.nn as nn"
   ]
  },
  {
   "cell_type": "markdown",
   "metadata": {
    "id": "bYNXHtZLPaCt"
   },
   "source": [
    "## Define device that you want to use (GPU/CPU)"
   ]
  },
  {
   "cell_type": "code",
   "execution_count": null,
   "metadata": {
    "id": "vkx8UYgzO8dY"
   },
   "outputs": [],
   "source": [
    "def get_device():\n",
    "    return torch.device('cuda') if torch.cuda.is_available() else torch.device('cpu')"
   ]
  },
  {
   "cell_type": "markdown",
   "metadata": {
    "id": "HodHEbOpPmZs"
   },
   "source": [
    "## Connect to kaggle"
   ]
  },
  {
   "cell_type": "code",
   "execution_count": null,
   "metadata": {
    "id": "WKmZwF0VPVMG"
   },
   "outputs": [],
   "source": [
    "!mkdir -p ~/.kaggle"
   ]
  },
  {
   "cell_type": "code",
   "execution_count": null,
   "metadata": {
    "colab": {
     "base_uri": "https://localhost:8080/",
     "height": 57
    },
    "executionInfo": {
     "elapsed": 9012,
     "status": "ok",
     "timestamp": 1740190202271,
     "user": {
      "displayName": "imran khan",
      "userId": "04717711026660830603"
     },
     "user_tz": -330
    },
    "id": "kA-7Rom7PqH3",
    "outputId": "2749ca64-fdad-43e0-8247-3d480b13d32f"
   },
   "outputs": [
    {
     "data": {
      "text/html": [
       "\n",
       "     <input type=\"file\" id=\"files-07577603-5b4a-4f82-9d71-8750feb7efad\" name=\"files[]\" multiple disabled\n",
       "        style=\"border:none\" />\n",
       "     <output id=\"result-07577603-5b4a-4f82-9d71-8750feb7efad\">\n",
       "      Upload widget is only available when the cell has been executed in the\n",
       "      current browser session. Please rerun this cell to enable.\n",
       "      </output>\n",
       "      <script>// Copyright 2017 Google LLC\n",
       "//\n",
       "// Licensed under the Apache License, Version 2.0 (the \"License\");\n",
       "// you may not use this file except in compliance with the License.\n",
       "// You may obtain a copy of the License at\n",
       "//\n",
       "//      http://www.apache.org/licenses/LICENSE-2.0\n",
       "//\n",
       "// Unless required by applicable law or agreed to in writing, software\n",
       "// distributed under the License is distributed on an \"AS IS\" BASIS,\n",
       "// WITHOUT WARRANTIES OR CONDITIONS OF ANY KIND, either express or implied.\n",
       "// See the License for the specific language governing permissions and\n",
       "// limitations under the License.\n",
       "\n",
       "/**\n",
       " * @fileoverview Helpers for google.colab Python module.\n",
       " */\n",
       "(function(scope) {\n",
       "function span(text, styleAttributes = {}) {\n",
       "  const element = document.createElement('span');\n",
       "  element.textContent = text;\n",
       "  for (const key of Object.keys(styleAttributes)) {\n",
       "    element.style[key] = styleAttributes[key];\n",
       "  }\n",
       "  return element;\n",
       "}\n",
       "\n",
       "// Max number of bytes which will be uploaded at a time.\n",
       "const MAX_PAYLOAD_SIZE = 100 * 1024;\n",
       "\n",
       "function _uploadFiles(inputId, outputId) {\n",
       "  const steps = uploadFilesStep(inputId, outputId);\n",
       "  const outputElement = document.getElementById(outputId);\n",
       "  // Cache steps on the outputElement to make it available for the next call\n",
       "  // to uploadFilesContinue from Python.\n",
       "  outputElement.steps = steps;\n",
       "\n",
       "  return _uploadFilesContinue(outputId);\n",
       "}\n",
       "\n",
       "// This is roughly an async generator (not supported in the browser yet),\n",
       "// where there are multiple asynchronous steps and the Python side is going\n",
       "// to poll for completion of each step.\n",
       "// This uses a Promise to block the python side on completion of each step,\n",
       "// then passes the result of the previous step as the input to the next step.\n",
       "function _uploadFilesContinue(outputId) {\n",
       "  const outputElement = document.getElementById(outputId);\n",
       "  const steps = outputElement.steps;\n",
       "\n",
       "  const next = steps.next(outputElement.lastPromiseValue);\n",
       "  return Promise.resolve(next.value.promise).then((value) => {\n",
       "    // Cache the last promise value to make it available to the next\n",
       "    // step of the generator.\n",
       "    outputElement.lastPromiseValue = value;\n",
       "    return next.value.response;\n",
       "  });\n",
       "}\n",
       "\n",
       "/**\n",
       " * Generator function which is called between each async step of the upload\n",
       " * process.\n",
       " * @param {string} inputId Element ID of the input file picker element.\n",
       " * @param {string} outputId Element ID of the output display.\n",
       " * @return {!Iterable<!Object>} Iterable of next steps.\n",
       " */\n",
       "function* uploadFilesStep(inputId, outputId) {\n",
       "  const inputElement = document.getElementById(inputId);\n",
       "  inputElement.disabled = false;\n",
       "\n",
       "  const outputElement = document.getElementById(outputId);\n",
       "  outputElement.innerHTML = '';\n",
       "\n",
       "  const pickedPromise = new Promise((resolve) => {\n",
       "    inputElement.addEventListener('change', (e) => {\n",
       "      resolve(e.target.files);\n",
       "    });\n",
       "  });\n",
       "\n",
       "  const cancel = document.createElement('button');\n",
       "  inputElement.parentElement.appendChild(cancel);\n",
       "  cancel.textContent = 'Cancel upload';\n",
       "  const cancelPromise = new Promise((resolve) => {\n",
       "    cancel.onclick = () => {\n",
       "      resolve(null);\n",
       "    };\n",
       "  });\n",
       "\n",
       "  // Wait for the user to pick the files.\n",
       "  const files = yield {\n",
       "    promise: Promise.race([pickedPromise, cancelPromise]),\n",
       "    response: {\n",
       "      action: 'starting',\n",
       "    }\n",
       "  };\n",
       "\n",
       "  cancel.remove();\n",
       "\n",
       "  // Disable the input element since further picks are not allowed.\n",
       "  inputElement.disabled = true;\n",
       "\n",
       "  if (!files) {\n",
       "    return {\n",
       "      response: {\n",
       "        action: 'complete',\n",
       "      }\n",
       "    };\n",
       "  }\n",
       "\n",
       "  for (const file of files) {\n",
       "    const li = document.createElement('li');\n",
       "    li.append(span(file.name, {fontWeight: 'bold'}));\n",
       "    li.append(span(\n",
       "        `(${file.type || 'n/a'}) - ${file.size} bytes, ` +\n",
       "        `last modified: ${\n",
       "            file.lastModifiedDate ? file.lastModifiedDate.toLocaleDateString() :\n",
       "                                    'n/a'} - `));\n",
       "    const percent = span('0% done');\n",
       "    li.appendChild(percent);\n",
       "\n",
       "    outputElement.appendChild(li);\n",
       "\n",
       "    const fileDataPromise = new Promise((resolve) => {\n",
       "      const reader = new FileReader();\n",
       "      reader.onload = (e) => {\n",
       "        resolve(e.target.result);\n",
       "      };\n",
       "      reader.readAsArrayBuffer(file);\n",
       "    });\n",
       "    // Wait for the data to be ready.\n",
       "    let fileData = yield {\n",
       "      promise: fileDataPromise,\n",
       "      response: {\n",
       "        action: 'continue',\n",
       "      }\n",
       "    };\n",
       "\n",
       "    // Use a chunked sending to avoid message size limits. See b/62115660.\n",
       "    let position = 0;\n",
       "    do {\n",
       "      const length = Math.min(fileData.byteLength - position, MAX_PAYLOAD_SIZE);\n",
       "      const chunk = new Uint8Array(fileData, position, length);\n",
       "      position += length;\n",
       "\n",
       "      const base64 = btoa(String.fromCharCode.apply(null, chunk));\n",
       "      yield {\n",
       "        response: {\n",
       "          action: 'append',\n",
       "          file: file.name,\n",
       "          data: base64,\n",
       "        },\n",
       "      };\n",
       "\n",
       "      let percentDone = fileData.byteLength === 0 ?\n",
       "          100 :\n",
       "          Math.round((position / fileData.byteLength) * 100);\n",
       "      percent.textContent = `${percentDone}% done`;\n",
       "\n",
       "    } while (position < fileData.byteLength);\n",
       "  }\n",
       "\n",
       "  // All done.\n",
       "  yield {\n",
       "    response: {\n",
       "      action: 'complete',\n",
       "    }\n",
       "  };\n",
       "}\n",
       "\n",
       "scope.google = scope.google || {};\n",
       "scope.google.colab = scope.google.colab || {};\n",
       "scope.google.colab._files = {\n",
       "  _uploadFiles,\n",
       "  _uploadFilesContinue,\n",
       "};\n",
       "})(self);\n",
       "</script> "
      ],
      "text/plain": [
       "<IPython.core.display.HTML object>"
      ]
     },
     "metadata": {},
     "output_type": "display_data"
    },
    {
     "data": {
      "text/plain": [
       "{}"
      ]
     },
     "execution_count": 17,
     "metadata": {},
     "output_type": "execute_result"
    }
   ],
   "source": [
    "from google.colab import files\n",
    "files.upload()"
   ]
  },
  {
   "cell_type": "code",
   "execution_count": null,
   "metadata": {
    "id": "3sQt_o9RPxFV"
   },
   "outputs": [],
   "source": [
    "!mv kaggle.json ~/.kaggle/"
   ]
  },
  {
   "cell_type": "code",
   "execution_count": null,
   "metadata": {
    "id": "SmiPljMlP1UO"
   },
   "outputs": [],
   "source": [
    "!chmod 600 ~/.kaggle/kaggle.json"
   ]
  },
  {
   "cell_type": "markdown",
   "metadata": {
    "id": "YCrhx3xXQOOF"
   },
   "source": [
    "## Load Dataset"
   ]
  },
  {
   "cell_type": "code",
   "execution_count": null,
   "metadata": {
    "colab": {
     "base_uri": "https://localhost:8080/"
    },
    "executionInfo": {
     "elapsed": 57046,
     "status": "ok",
     "timestamp": 1740188192067,
     "user": {
      "displayName": "imran khan",
      "userId": "04717711026660830603"
     },
     "user_tz": -330
    },
    "id": "ALLCibbLP3Uj",
    "outputId": "63f44978-907a-4416-81a2-c16b300894ac"
   },
   "outputs": [
    {
     "name": "stdout",
     "output_type": "stream",
     "text": [
      "Dataset URL: https://www.kaggle.com/datasets/parvmodi/english-to-hindi-machine-translation-dataset\n",
      "License(s): CC0-1.0\n",
      "Downloading english-to-hindi-machine-translation-dataset.zip to /content\n",
      "100% 1.04G/1.04G [00:55<00:00, 23.0MB/s]\n",
      "100% 1.04G/1.04G [00:55<00:00, 20.2MB/s]\n"
     ]
    }
   ],
   "source": [
    "!kaggle datasets download -d parvmodi/english-to-hindi-machine-translation-dataset"
   ]
  },
  {
   "cell_type": "code",
   "execution_count": null,
   "metadata": {
    "colab": {
     "base_uri": "https://localhost:8080/"
    },
    "executionInfo": {
     "elapsed": 66583,
     "status": "ok",
     "timestamp": 1740188272271,
     "user": {
      "displayName": "imran khan",
      "userId": "04717711026660830603"
     },
     "user_tz": -330
    },
    "id": "eEYLHQ40P5vW",
    "outputId": "7656370e-64ae-4458-c07b-de1d0fa2a6d2"
   },
   "outputs": [
    {
     "name": "stdout",
     "output_type": "stream",
     "text": [
      "Archive:  english-to-kannada-machine-translation-dataset.zip\n",
      "replace /content/train.en? [y]es, [n]o, [A]ll, [N]one, [r]ename: y\n",
      "  inflating: /content/train.en       \n",
      "replace /content/train.kn? [y]es, [n]o, [A]ll, [N]one, [r]ename: y\n",
      "  inflating: /content/train.kn       \n",
      "\n",
      "Archive:  english-to-hindi-machine-translation-dataset.zip\n",
      "replace /content/train.en? [y]es, [n]o, [A]ll, [N]one, [r]ename: y\n",
      "  inflating: /content/train.en       y\n",
      "\n",
      "  inflating: /content/train.hi       y\n",
      "\n",
      "\n",
      "2 archives were successfully processed.\n"
     ]
    }
   ],
   "source": [
    "!unzip '*.zip' -d /content/"
   ]
  },
  {
   "cell_type": "markdown",
   "metadata": {
    "id": "2BRrvYuJQQoQ"
   },
   "source": [
    "## Text Preprocessing"
   ]
  },
  {
   "cell_type": "code",
   "execution_count": null,
   "metadata": {
    "id": "iN_dkluzQXuM"
   },
   "outputs": [],
   "source": [
    "with open(\"train.en\", 'r') as file:\n",
    "    english_sentences = file.readlines()\n",
    "with open(\"train.hi\", 'r') as file:\n",
    "    hindi_sentences = file.readlines()\n",
    "\n",
    "# Limit Number of sentences\n",
    "TOTAL_SENTENCES = 200000\n",
    "english_sentences = english_sentences[:TOTAL_SENTENCES]\n",
    "hindi_sentences = hindi_sentences[:TOTAL_SENTENCES]\n",
    "english_sentences = [sentence.rstrip('\\n').lower() for sentence in english_sentences]\n",
    "hindi_sentences = [sentence.rstrip('\\n') for sentence in hindi_sentences]"
   ]
  },
  {
   "cell_type": "code",
   "execution_count": null,
   "metadata": {
    "colab": {
     "base_uri": "https://localhost:8080/"
    },
    "executionInfo": {
     "elapsed": 65,
     "status": "ok",
     "timestamp": 1740191251010,
     "user": {
      "displayName": "imran khan",
      "userId": "04717711026660830603"
     },
     "user_tz": -330
    },
    "id": "N0GEQVX5QfVA",
    "outputId": "7f37cb75-ea56-4123-fdbb-8ca4cf14e131"
   },
   "outputs": [
    {
     "data": {
      "text/plain": [
       "([\"however, paes, who was partnering australia's paul hanley, could only go as far as the quarterfinals where they lost to bhupathi and knowles\",\n",
       "  'whosoever desires the reward of the world, with allah is the reward of the world and of the everlasting life. allah is the hearer, the seer.',\n",
       "  'the value of insects in the biosphere is enormous because they outnumber all other living groups in measure of species richness.',\n",
       "  'mithali to anchor indian team against australia in odis',\n",
       "  'after the assent of the honble president on 8thseptember, 2016, the 101thconstitutional amendment act, 2016 came into existence'],\n",
       " ['आस्ट्रेलिया के पाल हेनली के साथ जोड़ी बनाने वाले पेस मियामी में क्वार्टरफाइनल तक ही पहुंच सके क्योंकि इस दौर में उन्हें भूपति और नोल्स ने हराया था।',\n",
       "  'और जो शख्स (अपने आमाल का) बदला दुनिया ही में चाहता है तो ख़ुदा के पास दुनिया व आख़िरत दोनों का अज्र मौजूद है और ख़ुदा तो हर शख्स की सुनता और सबको देखता है',\n",
       "  'जैव-मंडल में कीड़ों का मूल्य बहुत है, क्योंकि प्रजातियों की समृद्धि के मामले में उनकी संख्या अन्य जीव समूहों से ज़्यादा है।',\n",
       "  'आस्ट्रेलिया के खिलाफ वनडे टीम की कमान मिताली को',\n",
       "  '8 सितम्\\u200dबर, 2016 को माननीय राष्\\u200dट्रपति की स्\\u200dवीकृति मिलने के बाद 101वां संविधान संशोधन अधिनियम, 2016 अस्तित्\\u200dव में आया'])"
      ]
     },
     "execution_count": 17,
     "metadata": {},
     "output_type": "execute_result"
    }
   ],
   "source": [
    "english_sentences[:5], hindi_sentences[:5]"
   ]
  },
  {
   "cell_type": "code",
   "execution_count": null,
   "metadata": {
    "colab": {
     "base_uri": "https://localhost:8080/"
    },
    "executionInfo": {
     "elapsed": 1777,
     "status": "ok",
     "timestamp": 1740191252781,
     "user": {
      "displayName": "imran khan",
      "userId": "04717711026660830603"
     },
     "user_tz": -330
    },
    "id": "Dm7tbhkOQh5R",
    "outputId": "53d1318a-c691-46f5-af8c-19cafbbbd47e"
   },
   "outputs": [
    {
     "name": "stdout",
     "output_type": "stream",
     "text": [
      "English Vocabulary: 68\n",
      "Kannada Vocabulary: 670\n"
     ]
    }
   ],
   "source": [
    "vocab_en = set(' '.join(english_sentences))\n",
    "vocab_hi = set(' '.join(hindi_sentences))\n",
    "print(f\"English Vocabulary: {len(vocab_en)}\")\n",
    "print(f\"Kannada Vocabulary: {len(vocab_hi)}\")"
   ]
  },
  {
   "cell_type": "code",
   "execution_count": null,
   "metadata": {
    "colab": {
     "base_uri": "https://localhost:8080/"
    },
    "executionInfo": {
     "elapsed": 46,
     "status": "ok",
     "timestamp": 1740191255546,
     "user": {
      "displayName": "imran khan",
      "userId": "04717711026660830603"
     },
     "user_tz": -330
    },
    "id": "SOtUCkCeQn60",
    "outputId": "ed03bc7d-1181-468b-d02e-1e3e20bfc34d"
   },
   "outputs": [
    {
     "name": "stdout",
     "output_type": "stream",
     "text": [
      "{',', 'o', '5', 'u', '\"', \"'\", 'y', 'd', ':', 'z', '>', '_', 'c', '0', ' ', 'f', '(', 'p', '<', '6', '`', '#', 'e', 'm', '.', 'a', '2', 'q', 'b', 'r', '%', '/', 'k', '-', '*', '}', '^', '=', 'v', 'i', 'l', '7', '&', 'g', 't', '|', '$', ']', '9', '+', 'x', '!', '[', '@', 's', '\\\\', 'w', '?', '{', 'n', '4', '~', '8', 'j', 'h', ')', '1', '3'}\n"
     ]
    }
   ],
   "source": [
    "print(vocab_en)"
   ]
  },
  {
   "cell_type": "code",
   "execution_count": null,
   "metadata": {
    "colab": {
     "base_uri": "https://localhost:8080/"
    },
    "executionInfo": {
     "elapsed": 13,
     "status": "ok",
     "timestamp": 1740191265928,
     "user": {
      "displayName": "imran khan",
      "userId": "04717711026660830603"
     },
     "user_tz": -330
    },
    "id": "rA5MjyFUUu0A",
    "outputId": "258dacaf-e543-43c9-ee0e-6b43805d02d6"
   },
   "outputs": [
    {
     "name": "stdout",
     "output_type": "stream",
     "text": [
      "{'य़', 'व', 'β', 'ត', '˝', '•', 'פ', 'ड़', '♦', 'ू', '६', 'ន', 'ර', 'ई', '¡', 'c', 'घ', '।', 'ऐ', 'হ', '*', 'រ', 'E', 'g', 'æ', '|', 'ª', '❑', 'ன', 'ó', 'ਆ', 'ֶ', '관', 'ø', 'ण', 'š', '९', 'ग़', 'Ó', 'ঙ', '►', 'ঘ', 'ច', 'ُ', 'ப', 'إ', 'ர', '°', '§', 'd', '▫', '\\u200e', '0', 'א', '□', 'দ', '\\ue208', '…', 'Ṭ', 'ल', 'ढ़', 'ॐ', '#', 'ऒ', 'ප', 'ی', 'Ω', 'レ', '⊆', 'н', '្', 'נ', '\\u200b', 'ز', '্', 'ō', 'ʊ', 'म', '\\\\', 'ष', 'ǔ', '~', 'प', '鲁', 'Ć', 'ش', 'ế', 'ḍ', 'ক', 'ֵ', 'ೆ', 'J', '਼', 'গ', '_', 'ك', 'ع', 'L', 'ʁ', 'с', 'স', '%', '॥', 'ٓ', 't', 'Ч', '่', 'ट', 'D', 'ে', 'ु', '¬', 'ऋ', '西', 'ॉ', '\\u2061', '׃', 'ف', 'ē', 'C', 'ত', 'B', 'ा', 'ऩ', ':', 'ল', 'ி', 'ᠠ', 'f', 'ہ', 'س', '\\uf0d8', '\\uf146', '明', '州', 'ठ', '›', '國', '現', 'ා', 'ो', 'ម', '½', '’', '代', '३', '{', '™', 'ট', 'þ', 'o', 'Ⓡ', '5', 'ة', 'ৱ', 'ô', 'ν', 'Ž', 'ε', 'ृ', 'ு', 'ො', 'μ', '≈', '經', 'ر', '`', 'ऊ', 'ಯ', '☺', 'ĺ', 'ਸ', 'U', 'ಮ', '-', '&', 'Ю', 'ш', 'у', 'ò', '死', 'Ş', 'x', 'ḷ', 'ස', 'ී', '☻', '春', 'ै', 'য', 'ב', '1', 'ז', 'и', 'ె', 'ι', 'य', '唐', 'R', 'ş', 'ؤ', 'ත', '湖', 'ţ', '¶', 'و', '“', 'Τ', 'Ň', 'ढ', 'గ', '„', 'é', 'e', 'к', '−', 'ब', 'а', 'ව', 'י', 'É', 'T', 'भ', 'л', 'م', 'أ', 'i', 'ำ', 'ٰ', '@', '५', 'ᐅ', 'デ', '?', 'ح', '動', 'λ', '‑', 'ː', 'δ', 'χ', '॒', '¹', 'न', 'ミ', 'ᐃ', 'ओ', '\\uf0b7', 'ַ', 'ɵ', '郑', '\\u200c', 'ŋ', '்', '大', 'ช', '공', '(', 'ऎ', 'क', '일', 'מ', 'ғ', 'κ', '.', '中', 'ن', 'ン', 'Å', '/', 'б', 'ο', 'ಚ', 'ي', ']', '$', 'ס', '್', 'W', 'ख', 'ম', 'ख़', '性', 'ौ', '에', 'Y', 'ූ', '♪', '˜', 'फ़', '´', 'क़', '\\u2008', 'ក', '±', '́', 'ɨ', 'ว', 'コ', 'ं', '⚡', 'ł', 'ñ', 'α', 'ి', 'м', 'ਿ', 'ط', '◆', '\\ue205', 'ל', 'ɑ', 'ज', 'छ', '॰', 'ऑ', 'ু', 'υ', '3', 'е', '域', 'ท', 'ң', 'క', 'د', 'ل', '\\u200d', '长', '़', 'Ô', '\"', 'Ò', 'ض', '>', 'ä', 'Q', '‚', '়', 'ě', 'ឃ', '骨', 'p', 'ห', 'ঔ', 'ᓗ', 'í', 'Ż', 'ు', 'ಳ', 'ල', 'র', 'শ', 'ง', '=', 'න', '7', 'H', '‘', 'à', 'ও', '€', 'Þ', 'ه', 'ְ', 'ः', 'ਰ', 'Δ', 'ء', 'j', 'ॠ', ',', 'ං', 'Ê', 'ʃ', 'ම', 'ோ', 'ব', '⋅', 'े', 'I', 'ᠴ', 'ا', '<', 'र', 'ల', '6', 'V', '̈', '☞', 'த', 'ि', 'r', '․', 'आ', '}', 'ɪ', 'வ', '经', 'ק', 'メ', 'з', '章', '⁻', 'ö', 'M', 'इ', 'ש', 'ह', '木', '\\xa0', 'о', 'ॢ', 'ු', 'ظ', '®', 'ы', 'ו', '▪', 'េ', 'ت', 'Θ', '⁰', '८', '¨', 'ー', 'ॆ', 'η', '七', '¸', 'ँ', 'θ', 'ę', 'ऱ', 'ञ', 'ਤ', '洞', '\\uf514', 'า', 'औ', 'ן', '–', '\\ue88c', 'l', 'ऍ', 'ר', 'ה', 'ί', '8', 'A', 'ˈ', 'थ', 'ᠨ', 'ண', 'Э', 'ை', 'ऽ', 'ඩ', \"'\", 'y', 'ٕ', 'п', 'ৰ', '自', 'т', 'С', 'й', 'ග', '\\uf642', 'ุ', 'ङ', 'q', 'ো', 'แ', 'க', 'Ι', 'ই', 'ុ', '—', 'ॄ', '१', 'ಕ', 'श', 'ִ', '휴', '੍', '9', 'ಿ', 'त', '४', 'ィ', '한', '車', 'ξ', 'Я', 'F', 'ê', 'త', '❏', 'ং', 'ə', 'X', 'д', 'ต', 'Â', '్', 'ย', 'm', 'K', 'ق', 'ऌ', 'জ', 'উ', 'ָ', 'è', '班', 'ா', '↔', 'ச', 'ч', 'ّ', 'ص', 'া', '[', '२', 'ט', 'パ', 'ක', 'G', 'ก', 'N', 'ি', 'च', 'ス', 'Z', '\\ue5a0', 'я', '高', '\\u200f', 'ॅ', 'τ', '記', 'ी', 'พ', 'ல', 'َ', '林', 'К', 'a', 'b', 'ড', '้', 'Ÿ', '^', '०', '→', 'ग', 'द', 'প', 'Г', 'ॊ', 'Ō', '©', 'Ę', 'ּ', 'ம', 'আ', 'మ', 'n', 'ా', 'ئ', 'ֹ', 'h', 'پ', 'ā', '○', 'À', '의', 'ज़', ';', '■', 'u', 'в', 'अ', 'á', 'ʔ', '夕', 'ό', '्', 'ন', '×', 'ਦ', 'ய', 'ロ', 'उ', '′', 'ˌ', 'O', 'ิ', '\\uf0a7', '世', 'آ', 'ú', 'ळ', '‐', 'চ', 'k', '²', 'स', 'v', 'फ', 'Р', 'ស', 'น', '!', '日', 'อ', 'w', '·', '4', '७', 'ड', 'ए', ')', '»', 'È', '◇', 'ب', 'ದ', 'ನ', 'P', '\\ufeff', '庭', 'ਵ', 'S', 'М', 'ς', 'ă', 'ī', 'ध', 'כ', 'z', ' ', 'ล', 'ᒡ', 'झ', 'ය', '魯', 'ᡠ', '”', '2', '♫', '්', 'ᠩ', 'ِ', '£', 'ρ', 'ʹ', '+', '₹', 'ï', '\\xad', '女', 's', 'ි', 'р', '¼', 'ী', '℃', 'â', '̯'}\n"
     ]
    }
   ],
   "source": [
    "print(vocab_hi)"
   ]
  },
  {
   "cell_type": "code",
   "execution_count": null,
   "metadata": {
    "id": "q-2ExqsJP7S-"
   },
   "outputs": [],
   "source": [
    "# Generated this by filtering Appendix code\n",
    "START_TOKEN = '<START>'\n",
    "PADDING_TOKEN = '<PAD>'\n",
    "END_TOKEN = '<END>'\n",
    "\n",
    "# Hindi Vocabulary\n",
    "hindi_vocabulary = [START_TOKEN, ' ', '!', '\"', '#', '$', '%', '&', \"'\", '(', ')', '*', '+', ',', '-', '.', '/',\n",
    "                      '0', '1', '2', '3', '4', '5', '6', '7', '8', '9', ':', '<', '=', '>', '?',\n",
    "                      'ँ', 'ं', 'ः', 'ऄ', 'अ', 'आ', 'इ', 'ई', 'उ', 'ऊ', 'ऋ', 'ऌ', 'ऍ', 'ऎ', 'ए', 'ऐ', 'ऑ', 'ऒ', 'ओ', 'औ',\n",
    "                      'क', 'ख', 'ग', 'घ', 'ङ',\n",
    "                      'च', 'छ', 'ज', 'झ', 'ञ',\n",
    "                      'ट', 'ठ', 'ड', 'ढ', 'ण',\n",
    "                      'त', 'थ', 'द', 'ध', 'न',\n",
    "                      'प', 'फ', 'ब', 'भ', 'म',\n",
    "                      'य', 'र', 'ऱ', 'ल', 'ळ', 'ऴ', 'व', 'श', 'ष', 'स', 'ह',\n",
    "                      '़', 'ऽ', 'ा', 'ि', 'ी', 'ु', 'ू', 'ृ', 'ॄ', 'ॅ', 'ॆ', 'े', 'ै', 'ॉ', 'ॊ', 'ो', 'ौ', '्',\n",
    "                      'ॐ', '॑', '॒',\n",
    "                      '०', '१', '२', '३', '४', '५', '६', '७', '८', '९',\n",
    "                      PADDING_TOKEN, END_TOKEN]\n",
    "\n",
    "english_vocabulary = [START_TOKEN, ' ', '!', '\"', '#', '$', '%', '&', \"'\", '(', ')', '*', '+', ',', '-', '.', '/',\n",
    "                        '0', '1', '2', '3', '4', '5', '6', '7', '8', '9',\n",
    "                        ':', '<', '=', '>', '?', '@',\n",
    "                        '[', '\\\\', ']', '^', '_', '`',\n",
    "                        'a', 'b', 'c', 'd', 'e', 'f', 'g', 'h', 'i', 'j', 'k', 'l',\n",
    "                        'm', 'n', 'o', 'p', 'q', 'r', 's', 't', 'u', 'v', 'w', 'x',\n",
    "                        'y', 'z',\n",
    "                        '{', '|', '}', '~', PADDING_TOKEN, END_TOKEN]"
   ]
  },
  {
   "cell_type": "code",
   "execution_count": null,
   "metadata": {
    "id": "AJGevDBsQVCV"
   },
   "outputs": [],
   "source": [
    "index_to_hindi = {k:v for k,v in enumerate(hindi_vocabulary)}\n",
    "hindi_to_index = {v:k for k,v in enumerate(hindi_vocabulary)}\n",
    "index_to_english = {k:v for k,v in enumerate(english_vocabulary)}\n",
    "english_to_index = {v:k for k,v in enumerate(english_vocabulary)}"
   ]
  },
  {
   "cell_type": "code",
   "execution_count": null,
   "metadata": {
    "colab": {
     "base_uri": "https://localhost:8080/"
    },
    "executionInfo": {
     "elapsed": 12,
     "status": "ok",
     "timestamp": 1740191271609,
     "user": {
      "displayName": "imran khan",
      "userId": "04717711026660830603"
     },
     "user_tz": -330
    },
    "id": "6Hl2xuSoQvLg",
    "outputId": "92101c85-e6fb-435e-feb7-2cf0b6f71d72"
   },
   "outputs": [
    {
     "name": "stdout",
     "output_type": "stream",
     "text": [
      "{0: '<START>', 1: ' ', 2: '!', 3: '\"', 4: '#', 5: '$', 6: '%', 7: '&', 8: \"'\", 9: '(', 10: ')', 11: '*', 12: '+', 13: ',', 14: '-', 15: '.', 16: '/', 17: '0', 18: '1', 19: '2', 20: '3', 21: '4', 22: '5', 23: '6', 24: '7', 25: '8', 26: '9', 27: ':', 28: '<', 29: '=', 30: '>', 31: '?', 32: '@', 33: '[', 34: '\\\\', 35: ']', 36: '^', 37: '_', 38: '`', 39: 'a', 40: 'b', 41: 'c', 42: 'd', 43: 'e', 44: 'f', 45: 'g', 46: 'h', 47: 'i', 48: 'j', 49: 'k', 50: 'l', 51: 'm', 52: 'n', 53: 'o', 54: 'p', 55: 'q', 56: 'r', 57: 's', 58: 't', 59: 'u', 60: 'v', 61: 'w', 62: 'x', 63: 'y', 64: 'z', 65: '{', 66: '|', 67: '}', 68: '~', 69: '<PAD>', 70: '<END>'}\n"
     ]
    }
   ],
   "source": [
    "print(index_to_english)"
   ]
  },
  {
   "cell_type": "code",
   "execution_count": null,
   "metadata": {
    "colab": {
     "base_uri": "https://localhost:8080/"
    },
    "executionInfo": {
     "elapsed": 30,
     "status": "ok",
     "timestamp": 1740191273258,
     "user": {
      "displayName": "imran khan",
      "userId": "04717711026660830603"
     },
     "user_tz": -330
    },
    "id": "Y2lfdnNsV-5N",
    "outputId": "a9ccd8f0-ae13-489a-bfa2-f5cf181d782e"
   },
   "outputs": [
    {
     "name": "stdout",
     "output_type": "stream",
     "text": [
      "97th percentile length Hindi: 258.0\n",
      "97th percentile length English: 267.0\n"
     ]
    }
   ],
   "source": [
    "PERCENTILE = 97\n",
    "print( f\"{PERCENTILE}th percentile length Hindi: {np.percentile([len(x) for x in hindi_sentences], PERCENTILE)}\" )\n",
    "print( f\"{PERCENTILE}th percentile length English: {np.percentile([len(x) for x in english_sentences], PERCENTILE)}\" )"
   ]
  },
  {
   "cell_type": "code",
   "execution_count": null,
   "metadata": {
    "colab": {
     "base_uri": "https://localhost:8080/"
    },
    "executionInfo": {
     "elapsed": 6199,
     "status": "ok",
     "timestamp": 1740191279810,
     "user": {
      "displayName": "imran khan",
      "userId": "04717711026660830603"
     },
     "user_tz": -330
    },
    "id": "I9p73RrNWNu3",
    "outputId": "b7423109-ad04-43eb-cfa4-bb79636e6b46"
   },
   "outputs": [
    {
     "name": "stdout",
     "output_type": "stream",
     "text": [
      "Number of sentences: 200000\n",
      "Number of valid sentences: 51470\n"
     ]
    }
   ],
   "source": [
    "max_sequence_length = 200\n",
    "\n",
    "def is_valid_tokens(sentence, vocab):\n",
    "    for token in list(set(sentence)):\n",
    "        if token not in vocab:\n",
    "            return False\n",
    "    return True\n",
    "\n",
    "def is_valid_length(sentence, max_sequence_length):\n",
    "    return len(list(sentence)) < (max_sequence_length - 1) # need to re-add the end token so leaving 1 space\n",
    "\n",
    "valid_sentence_indicies = []\n",
    "for index in range(len(hindi_sentences)):\n",
    "    hindi_sentence, english_sentence = hindi_sentences[index], english_sentences[index]\n",
    "    if is_valid_length(hindi_sentence, max_sequence_length) \\\n",
    "      and is_valid_length(english_sentence, max_sequence_length) \\\n",
    "      and is_valid_tokens(hindi_sentence, hindi_vocabulary):\n",
    "        valid_sentence_indicies.append(index)\n",
    "\n",
    "print(f\"Number of sentences: {len(hindi_sentences)}\")\n",
    "print(f\"Number of valid sentences: {len(valid_sentence_indicies)}\")"
   ]
  },
  {
   "cell_type": "code",
   "execution_count": null,
   "metadata": {
    "id": "MUYNnQGPXJMu"
   },
   "outputs": [],
   "source": [
    "hindi_sentences = [hindi_sentences[i] for i in valid_sentence_indicies]\n",
    "english_sentences = [english_sentences[i] for i in valid_sentence_indicies]"
   ]
  },
  {
   "cell_type": "code",
   "execution_count": null,
   "metadata": {
    "colab": {
     "base_uri": "https://localhost:8080/"
    },
    "executionInfo": {
     "elapsed": 10,
     "status": "ok",
     "timestamp": 1740191279877,
     "user": {
      "displayName": "imran khan",
      "userId": "04717711026660830603"
     },
     "user_tz": -330
    },
    "id": "Fmpx4sA-X_t5",
    "outputId": "309ac0e8-0cc3-4234-9732-49c2a8b52044"
   },
   "outputs": [
    {
     "data": {
      "text/plain": [
       "['और जो शख्स (अपने आमाल का) बदला दुनिया ही में चाहता है तो ख़ुदा के पास दुनिया व आख़िरत दोनों का अज्र मौजूद है और ख़ुदा तो हर शख्स की सुनता और सबको देखता है',\n",
       " 'आस्ट्रेलिया के खिलाफ वनडे टीम की कमान मिताली को',\n",
       " 'अदालत ने इस मामले में आगे की सुनवाई के लिए एक फरवरी की तारीख़ तय की',\n",
       " 'जहाँ पर ट्रैक को विभाजित किया जाना है, कृपया वह स्थान चुनें.',\n",
       " 'झारखंड के मुख्यमंत्री हेमंत सोरेन (फोटोः पीटीआई)']"
      ]
     },
     "execution_count": 27,
     "metadata": {},
     "output_type": "execute_result"
    }
   ],
   "source": [
    "hindi_sentences[:5]"
   ]
  },
  {
   "cell_type": "code",
   "execution_count": null,
   "metadata": {
    "colab": {
     "base_uri": "https://localhost:8080/",
     "height": 35
    },
    "executionInfo": {
     "elapsed": 56,
     "status": "ok",
     "timestamp": 1740191279936,
     "user": {
      "displayName": "imran khan",
      "userId": "04717711026660830603"
     },
     "user_tz": -330
    },
    "id": "6BqP_IdYYDJt",
    "outputId": "af9fc827-e570-4494-f24d-58c81bb3c1c5"
   },
   "outputs": [
    {
     "data": {
      "application/vnd.google.colaboratory.intrinsic+json": {
       "type": "string"
      },
      "text/plain": [
       "'india'"
      ]
     },
     "execution_count": 28,
     "metadata": {},
     "output_type": "execute_result"
    }
   ],
   "source": [
    "english_sentence[:5]"
   ]
  },
  {
   "cell_type": "code",
   "execution_count": null,
   "metadata": {
    "id": "dnLWwws_YHK-"
   },
   "outputs": [],
   "source": [
    "d_model = 512\n",
    "batch_size = 30\n",
    "ffn_hidden = 2048\n",
    "num_heads = 8\n",
    "drop_prob = 0.1\n",
    "num_layers = 1\n",
    "max_sequence_length = 200\n",
    "hi_vocab_size = len(hindi_vocabulary)\n",
    "\n",
    "transformer = Transformer(d_model=d_model,\n",
    "                          ffn_hidden=ffn_hidden,\n",
    "                          num_heads=num_heads,\n",
    "                          drop_prob=drop_prob,\n",
    "                          num_layers=num_layers,\n",
    "                          max_sequence_length=max_sequence_length,\n",
    "                          kn_vocab_size=hi_vocab_size,\n",
    "                          english_to_index=english_to_index,\n",
    "                          kannada_to_index=hindi_to_index,\n",
    "                          START_TOKEN=START_TOKEN,\n",
    "                          END_TOKEN=END_TOKEN,\n",
    "                          PADDING_TOKEN=PADDING_TOKEN)"
   ]
  },
  {
   "cell_type": "code",
   "execution_count": null,
   "metadata": {
    "colab": {
     "base_uri": "https://localhost:8080/"
    },
    "executionInfo": {
     "elapsed": 70,
     "status": "ok",
     "timestamp": 1740191280133,
     "user": {
      "displayName": "imran khan",
      "userId": "04717711026660830603"
     },
     "user_tz": -330
    },
    "id": "-rEtEzsrYlmI",
    "outputId": "170b9c53-1e95-4c16-d0c6-6eba8d79a27f"
   },
   "outputs": [
    {
     "data": {
      "text/plain": [
       "Transformer(\n",
       "  (encoder): Encoder(\n",
       "    (sentence_embedding): SentenceEmbedding(\n",
       "      (embedding): Embedding(71, 512)\n",
       "      (position_encoder): PositionalEncoding()\n",
       "      (dropout): Dropout(p=0.1, inplace=False)\n",
       "    )\n",
       "    (layers): SequentialEncoder(\n",
       "      (0): EncoderLayer(\n",
       "        (attention): MultiHeadAttention(\n",
       "          (qkv_layer): Linear(in_features=512, out_features=1536, bias=True)\n",
       "          (linear_layer): Linear(in_features=512, out_features=512, bias=True)\n",
       "        )\n",
       "        (norm1): LayerNormalization()\n",
       "        (dropout1): Dropout(p=0.1, inplace=False)\n",
       "        (ffn): PositionwiseFeedForward(\n",
       "          (linear1): Linear(in_features=512, out_features=2048, bias=True)\n",
       "          (linear2): Linear(in_features=2048, out_features=512, bias=True)\n",
       "          (relu): ReLU()\n",
       "          (dropout): Dropout(p=0.1, inplace=False)\n",
       "        )\n",
       "        (norm2): LayerNormalization()\n",
       "        (dropout2): Dropout(p=0.1, inplace=False)\n",
       "      )\n",
       "    )\n",
       "  )\n",
       "  (decoder): Decoder(\n",
       "    (sentence_embedding): SentenceEmbedding(\n",
       "      (embedding): Embedding(121, 512)\n",
       "      (position_encoder): PositionalEncoding()\n",
       "      (dropout): Dropout(p=0.1, inplace=False)\n",
       "    )\n",
       "    (layers): SequentialDecoder(\n",
       "      (0): DecoderLayer(\n",
       "        (self_attention): MultiHeadAttention(\n",
       "          (qkv_layer): Linear(in_features=512, out_features=1536, bias=True)\n",
       "          (linear_layer): Linear(in_features=512, out_features=512, bias=True)\n",
       "        )\n",
       "        (layer_norm1): LayerNormalization()\n",
       "        (dropout1): Dropout(p=0.1, inplace=False)\n",
       "        (encoder_decoder_attention): MultiHeadCrossAttention(\n",
       "          (kv_layer): Linear(in_features=512, out_features=1024, bias=True)\n",
       "          (q_layer): Linear(in_features=512, out_features=512, bias=True)\n",
       "          (linear_layer): Linear(in_features=512, out_features=512, bias=True)\n",
       "        )\n",
       "        (layer_norm2): LayerNormalization()\n",
       "        (dropout2): Dropout(p=0.1, inplace=False)\n",
       "        (ffn): PositionwiseFeedForward(\n",
       "          (linear1): Linear(in_features=512, out_features=2048, bias=True)\n",
       "          (linear2): Linear(in_features=2048, out_features=512, bias=True)\n",
       "          (relu): ReLU()\n",
       "          (dropout): Dropout(p=0.1, inplace=False)\n",
       "        )\n",
       "        (layer_norm3): LayerNormalization()\n",
       "        (dropout3): Dropout(p=0.1, inplace=False)\n",
       "      )\n",
       "    )\n",
       "  )\n",
       "  (linear): Linear(in_features=512, out_features=121, bias=True)\n",
       ")"
      ]
     },
     "execution_count": 30,
     "metadata": {},
     "output_type": "execute_result"
    }
   ],
   "source": [
    "transformer"
   ]
  },
  {
   "cell_type": "code",
   "execution_count": null,
   "metadata": {
    "id": "UZvvvwsQYmpa"
   },
   "outputs": [],
   "source": [
    "class TextDataset(Dataset):\n",
    "\n",
    "    def __init__(self, english_sentences, hindi_sentences):\n",
    "        self.english_sentences = english_sentences\n",
    "        self.hindi_sentences = hindi_sentences\n",
    "\n",
    "    def __len__(self):\n",
    "        return len(self.english_sentences)\n",
    "\n",
    "    def __getitem__(self, idx):\n",
    "        return self.english_sentences[idx], self.hindi_sentences[idx]"
   ]
  },
  {
   "cell_type": "code",
   "execution_count": null,
   "metadata": {
    "colab": {
     "base_uri": "https://localhost:8080/"
    },
    "executionInfo": {
     "elapsed": 25,
     "status": "ok",
     "timestamp": 1740191280138,
     "user": {
      "displayName": "imran khan",
      "userId": "04717711026660830603"
     },
     "user_tz": -330
    },
    "id": "xSRFwikDY4Cs",
    "outputId": "da15f6c1-2d70-4877-f90b-169ccf2b2d0c"
   },
   "outputs": [
    {
     "data": {
      "text/plain": [
       "(['whosoever desires the reward of the world, with allah is the reward of the world and of the everlasting life. allah is the hearer, the seer.',\n",
       "  'mithali to anchor indian team against australia in odis',\n",
       "  'the court has fixed a hearing for february 12',\n",
       "  'please select the position where the track should be split.',\n",
       "  'jharkhand chief minister hemant soren'],\n",
       " ['और जो शख्स (अपने आमाल का) बदला दुनिया ही में चाहता है तो ख़ुदा के पास दुनिया व आख़िरत दोनों का अज्र मौजूद है और ख़ुदा तो हर शख्स की सुनता और सबको देखता है',\n",
       "  'आस्ट्रेलिया के खिलाफ वनडे टीम की कमान मिताली को',\n",
       "  'अदालत ने इस मामले में आगे की सुनवाई के लिए एक फरवरी की तारीख़ तय की',\n",
       "  'जहाँ पर ट्रैक को विभाजित किया जाना है, कृपया वह स्थान चुनें.',\n",
       "  'झारखंड के मुख्यमंत्री हेमंत सोरेन (फोटोः पीटीआई)'])"
      ]
     },
     "execution_count": 32,
     "metadata": {},
     "output_type": "execute_result"
    }
   ],
   "source": [
    "dataset = TextDataset(english_sentences, hindi_sentences)\n",
    "dataset[:5]"
   ]
  },
  {
   "cell_type": "code",
   "execution_count": null,
   "metadata": {
    "id": "2vKzsHD2Y5-x"
   },
   "outputs": [],
   "source": [
    "train_loader = DataLoader(dataset, batch_size)\n",
    "iterator = iter(train_loader)"
   ]
  },
  {
   "cell_type": "code",
   "execution_count": null,
   "metadata": {
    "colab": {
     "base_uri": "https://localhost:8080/"
    },
    "executionInfo": {
     "elapsed": 71,
     "status": "ok",
     "timestamp": 1740191280664,
     "user": {
      "displayName": "imran khan",
      "userId": "04717711026660830603"
     },
     "user_tz": -330
    },
    "id": "FRCrd9HzZAxC",
    "outputId": "b0491625-3865-4ab5-fc6f-c2d7530f2b71"
   },
   "outputs": [
    {
     "name": "stdout",
     "output_type": "stream",
     "text": [
      "Batch 0: [('whosoever desires the reward of the world, with allah is the reward of the world and of the everlasting life. allah is the hearer, the seer.', 'mithali to anchor indian team against australia in odis', 'the court has fixed a hearing for february 12', 'please select the position where the track should be split.', 'jharkhand chief minister hemant soren', '\"jesus responded, as he taught in the temple, \"\"how is it that the scribes say that the christ is the son of david?\"', 'he does this because he is angry at the alleged desecration of the indian flag', 'share videos', '\"\"\"wunderlich and his wife, petra, are both gardeners, who themselves graduated from a normal high school, which they attended \"\"\"\"not reluctantly,\"\"\"\" dirk said.\"\"\"', 'hence, we must make sure we ourselves dont become careless, not allow anyone else do so', 'mayawati, akhilesh yadav seal pact for 2019 polls: bsp-sp not to contest in amethi, raebareli', 'they praise night and day, without ever tiring.', 'im fine by the grace of god.', 'hockey: india to face belgium in test series', 'the fir exhibit ka-19', 'this solar eclipse will also be visible in india.', 'the tata motors rights issue is perhaps the first one which will have a dvr portion', \"as pm modi begins to speak, the strong crowd of indian-americans starts chating 'modi, modi' slogan.\", 'the assailants carried iron rods and a kirpan in their hand.', 'i must go.', 'artists are the moral conscience of society.', 'in fact, india with...', '883 crorepatis, 645 candidates facing criminal cases are contesting karnataka election', 'everything for germany.', 'older ones who have let the truth mold them into honest people set a good example for young ones in this dishonest world. in myanmar lives such a young sister.', 'who use our product are not necessarily', \"they've stopped.\", 'save it and take a printout for future use.', 'low-yield nuclear weapons are also devastating but have a strength of less than 20 kilotons.', 'above all, it would need to imbibe the advice given by maulana azad in october 1947:'), ('और जो शख्स (अपने आमाल का) बदला दुनिया ही में चाहता है तो ख़ुदा के पास दुनिया व आख़िरत दोनों का अज्र मौजूद है और ख़ुदा तो हर शख्स की सुनता और सबको देखता है', 'आस्ट्रेलिया के खिलाफ वनडे टीम की कमान मिताली को', 'अदालत ने इस मामले में आगे की सुनवाई के लिए एक फरवरी की तारीख़ तय की', 'जहाँ पर ट्रैक को विभाजित किया जाना है, कृपया वह स्थान चुनें.', 'झारखंड के मुख्यमंत्री हेमंत सोरेन (फोटोः पीटीआई)', 'फिर यीशु ने मन्दिर में उपदेश करते हुए यह कहा, कि शास्त्री क्योंकर कहते हैं, कि मसीह दाऊद का पुत्रा है?', 'वह ऐसा इसलिए करता है, क्योंकि वह भारतीय तिरंगे के कथित अनादर से क्रोधित है', 'वीडियो क्लिप शेयर किए', 'डिर्क और उनकी पत्नी पेट्रा दोनों बागवानी करते हैं और वे दोनों खुद एक सामान्य हाई स्कूल से पढ़े थे.', 'इसलिए, न खुद कोई लापरवाही करनी है और न ही किसी और को लापरवाही करने देना है', '2019 के लिए मायावती-अखिलेश ने जारी की लिस्ट, जानिए कौन-कहां से लड़ेगा लोकसभा चुनाव', 'रात और दिन उसकी तस्बीह किया करते हैं (और) कभी काहिली नहीं करते', 'ईश्वर की कृपा से मैं बिल्कुल ठीक हूं.', 'हॉकी टेस्ट : भारत ने अर्जेटीना को बराबरी पर रोका', 'एफआईआर प्रदर्शनी के -19', 'यह सूर्य ग्रहण भारत में भी दिखेगा.', 'टाटा मोटर्स का राइट्स इश्यू शायद पहला ऐसा निर्गम होगा जिसमें डिफरेन्शियल वोटिंग राइट्स', \"इसके बाद जैसे ही हुड्डा ने बोलना शुरू किया वहाँ मौजूद बड़ी तादाद में लोग 'मोदी, मोदी' के नारे लगाने लगे.\", 'नकाबपोशों के हाथों में लाठियां और लोहे की छड़ें थीं.', 'मुझे जाना चाहिए.', 'कलाकार किसी समाज का नैतिक विवेक होते हैं.', 'दरअसल, भारतीय . पढ़ें', 'कर्नाटक चुनाव में 883 करोड़पति, 645 उम्मीदवारों पर दर्ज हैं आपराधिक मामले', 'जर्मनी के लिए सब कुछ..', 'म्यानमार में, किस प्रकार एक युवा बहन की ईमानदारी के कारण अच्छी गवाही दी गई?', 'जो हमारे उत्पाद का इस्तेमाल जरूरी नहीं हैं', 'वे रुक गये है.', 'इसका प्रिंटआउट निकालकर भविष्य के लिए सुरक्षित रख लें.', 'छोटे परमाणु हथियार करीब 20 किलो टन से कम क्षमता वाले होते हैं. हालांकि ये तुलनात्मक रूप से कम शक्तिशाली होते हैं लेकिन इनसे भी काफी विनाश हो सकता है.', 'सर्वोपरि, इसमें मौलाना आजाद द्वारा अक्तूबर, 1947 में दी गई इस सलाह को आत्मसात करने की आवश्यकता होगीः')]\n",
      "Batch 1: [('certainly whoever commits misdeeds and is besieged by his iniquitysuch shall be the inmates of the fire, and they will remain in it [forever].', 'his influnce on the intellectual and poetic development of his younger and more famous brother was considerable.', 'uk to accept 20,000 refugees from syria', '\"\"\"introducing the resolution, serbian foreign minister vuk jeremic asserted that serbia \"\"\"\"does not and shall not recognize the unilateral declaration of independence of kosovo.\"\"\"', 'european stocks were also trading lower in early trade.', '\"\\', chhillar responded: \"\"a mother should get that highest honour, and not just salary but also lots of love and respect.\"', \"they are also the world's two most populous countries.\", 'and he commanded them, saying, thus shall ye speak unto my lord esau. thy servant jacob saith thus, i have sojourned with laban, and stayed there until now:', 'after about ten minutes, the agitated opposition members returned near their seat but did not occupy it', 'govt repeals articles 370. rajya sabha passes jammu and kashmir reorganisation bill', 'no one can create an atmosphere.', 'in our case pakistan has made it as an instrument of its state policy, he said.', 'what will happen if the e-challan is not submitted?', 'thus shall they be entertained on the day of recompense.', \"can 't create window of class% s% s\", 'jay carney, white house press secretary', 'and an overflowing cup.', 'message from abroad', 'walk this way', 'bollywood actor ranveer singh is known for his flamboyant nature and unique style.', 'so why is this controversial?', 'o my fellow inmates, are diverse lords better, or god, the one, the supreme?', 'opponents are always trying to get you out, trying to outsmart you and you need to stay ahead of them.', 'the indian air force, however, stuck to its stand on friday, saying that it had conclusive proof of shooting down a paf f-16 on february 27.', 'his family members have been informed about his death.', \"chapungu's wings, along with the crane, rose to declare the fall of cecil john rhodes.\", 'unfortunately, it is your son, he said.', 'the results of class 12 examination will be declared from the board office at 10 am, the official mentioned.', 'delhi govt. has failed to control air pollution in national capital, says bjp', '\"say, \"\"he will give them life who created them for the first time! for he is well - versed in every kind of creation! -\"'), ('हाँ (सच तो यह है) कि जिसने बुराई हासिल की और उसके गुनाहों ने चारों तरफ से उसे घेर लिया है वही लोग तो दोज़ख़ी हैं और वही (तो) उसमें हमेशा रहेंगे', 'उनके छोटे और अपेक्षाकृत अधिक प्रसिद्ध भाई के बौद्धिक और काव्यात्मक विकास पर उनका जबरदस्त प्रभाव पड़ा था.', '15,000 सीरियाई लोगों को शरण देगा ब्रिटेन', 'सर्बिया के विदेश मंत्री वुक येरेमिच ने संयुक्त राष्ट्र महासभा से कहा है कि यूरोप समर्थित वार्ता की तैयारी के बावजूद सर्बियाई सरकार ने कोसोवो की एकतरफा आजादी को न स्वीकार किया है और न करेगा.', 'वहीं यूरोपियन शेयरों में भी शुरुआती कारोबार में आंशिक गिरावट देखी जा रही है', '\"उन्होंने कहा था, \"\"एक मां को सबसे ज्यादा आदर, और न केवल वेतन, बल्कि बहुत सारा प्यार और सम्मान दिया जाना चाहिए.\"', 'दोनों दुनिया में सबसे ज्यादा आबादी वाले मुल्क हैं.', 'तब याकूब ने राहेल और लिआ: को, मैदान में अपनी भेड़- बकरियों के पास, बुलवाकर कहा,', 'लगभग दस मिनट के बाद आक्रोशित विपक्षी सदस्य अपने स्थानोंपर वापस बैठने की बजाय बहिर्गमन कर गये1ये सदस्य मंत्री का जवाब पूरा होने तक सदन में नहीं आये', 'सरकार ने जम्मू-कश्मीर को विशेष राज्य का दर्जा देने वाले अनुच्छेद 370 को रद्द करने की घोषणा की', 'कोई व्यक्ति कोई माहौल नहीं बना सकता.', 'हमारे मामले में पाकिस्तान ने इसे अपनी नीति का हिस्सा बना लिया है.', 'ऐसे में अगर ई-चालान जमा न किया जाए तो क्या होगा?', 'क़यामत के दिन यही उनकी मेहमानी होगी', 'वर्ग की खिड़की का निर्माण नहीं किया जा सकता है', 'व्हाइट हाउस के प्रेस सचिव जे कार्नी ने संवाददाताओं से कहा,', 'और बाहम हमजोलियाँ हैं और शराब के लबरेज़ साग़र', 'विदेशों से भी आ रहे खत', 'चलते हैं यहां', 'बॉलीवुड में रणवीर सिंह एक्टिंग के साथ-साथ अपने रंग-बिरंगे आउटफिट के लिए जाने जाते हैं.', 'तो फिर इतना विवाद क्यों', 'ऐ कारागर के मेरे साथियों! क्या अलग-अलग बहुत-से रह अच्छे है या अकेला अल्लाह जिसका प्रभुत्व सबपर है?', 'विरोधी हमेशा आपको आउट करने और आपको कमजोर करने की कोशिश करते हैं और आपको उनसे आगे रहना चाहिए.', 'गुरुवार 28 फरवरी को भारतीय वायु सेना ने प्रेस ब्रीफिंग में एफ-16 लड़ाकू विमानों के प्रयोग के प्रमाण दिखाए थे.', 'उनके निधन की पुष्टि उनके परिवार के सदस्यों ने की है.', 'चुपुंगु के पन्ख् और यन्त्र उठे सिस्ल जौन रोडस के गिरने को घोषित करने के लिये', 'यूनान में वापसी', 'कक्षा 12वीं के परिणाम बोर्ड कार्यालय की तरफ से सुबह 10 बजे घोषित किए जाएंगे.', 'भाजपा ने कहा कि दिल्ली सरकार राजधानी में वायु प्रदूषण को नियंत्रित करने में विफल रही है', '(ऐ रसूल) तुम कह दो कि उसको वही ज़िन्दा करेगा जिसने उनको (जब ये कुछ न थे) पहली बार ज़िन्दा कर (रखा)')]\n",
      "Batch 2: [('mumbai: supporting the farmers agitation, nationalist congress party (ncp) president, sharad pawar asked them to continue the stir till their demands were met.', 'important instructions for candidates', 'following sub-clause (ba) shall be inserted after sub-clause (b) of clause (i) of explanation 1 to clause (42a) of section 2 by the finance act, 2018, w.e.f. 1-4-2019 :', 'this includes 659 labs in the government sector and 248 in the private sector', 'india wants friendly relations with pakistan', 'off the road', 'thats why this step has been taken.', 'indeed there is a portent in this for those who believe.', 'be accompanied by such fees as may be prescribed.', 'so [musa (moses)] threw his stick, and behold, it was a serpent, manifest.', 'it is a matter of great happiness that the government of india has decided to confer the bharat ratna on atal bihari vajpayee and madan mohan malviya.', 'students must be encouraged to challenge accepted faiths and beliefs, says president, rashtrapati bhavan : 05.09.2016', 'as a mark of', 'where the case began', 'mumbai: senior congress leader ahmed patel arrives at jw marriott hotel, where congress mlas are currently lodged.', 'feeding on animals.', \"don 't medicate kids for attention deficit disorder\", 'contributes towards enhancement of fish production and productivity,', 'she beats him.', \"a new movement has sprung up in pakistan's pashtun-dominated northwestern areas.\", 'the foreign exchange earnings from tourism have also increased 50 per cent in the last 4 years', 'the film was much enjoyed by the audience.', 'brisk trading', 'expenditure incurred (amount in rs.)', 'the answer is bjp.', 'whos responsible for this?', 'its objectives are to: -', 'mountains are covered with ice.', 'stuart broad stood out with a 4-wicket haul and chris woakes also bagged a 3-fer.', 'police are trying to contact the family members of the deceased and the injured.'), ('मुंबई: राष्ट्रवादी कांग्रेस पार्टी (राकांपा) के प्रमुख शरद पवार ने आंदोलनरत किसानों को समर्थन देते हुए कहा कि मांगे पूरी होने तक वह अपना आंदोलन जारी रखें.', 'उम्मीदवारों के लिए जरूरी निर्देश', 'वित्त अधिनियम, 2018 द्वारा 1.4.2019 से धारा 2 के खंड (42क) में स्पष्टीकरण 1 के उपखंड (ख) के पश्चात् उपखंड (खक) अंत:स्थापित किया जाएगा:', 'इनमे 659 सरकारी और 248 निजी प्रयोगशालायें हैं', 'भारत से दोस्ती और बातचीत करना चाहते हैं पाकिस्तान के सेना प्रमुख', 'सड़क पर बाहरी', 'इस वजह से उठाया यह कदम', 'इसमें तो शक हीं नहीं कि इसमें ईमानदारों के वास्ते (कुदरते ख़ुदा की) बहुत बड़ी निशानी है', 'इसके साथ निर्धारित शुल्क भेजा जाएगा.', 'बस (ये सुनते ही) मूसा ने अपनी छड़ी (ज़मीन पर) डाल दी फिर तो यकायक वह एक सरीही अज़दहा बन गया', \"इसलिए इसमें कोई हैरानी की बात नहीं कि मोदी सरकार ने पहला मौक़ा मिलते ही अटल बिहारी वाजपेयी और मदन मोहन मालवीय को 'भारत रत्न' देने का फ़ैसला किया है.\", 'राष्ट्रपति ने कहा कि स्वीकृत आस्था और विश्वा से संबंधित चुनौतियों का सामना करने के लिए छात्रों को प्रोत्साहन दिया जाना चाहिए, राष्ट्रपति भवन : 05.09.2016', 'के प्रति', 'कहां से शुरू हुआ मामला', 'इस बीच मुंबई के जेडब्ल्यू मैरियट होटल में कांग्रेस के सीनियर और राष्ट्रीय नेता अहमद पटेल विधायकों से मिलने पहुंचे हैं.', 'जीवों/पशुओं से आहार प्राप्त करना', 'पहले तो उन्हें ध्यान नहीं लगा पाने के लिये (अटेन्शन डेफ़िसिट डिसार्डर के लिये) दवाइयाँ मत खिलाइये', 'मत्स्य उत्पादन और उत्पादकता बढ़ाने में योगदान देगा,', 'वह उसे मार दिया.', 'पाकिस्तान में यह नया आंदोलन देश के पठान बहुल पश्चिमोत्तर इलाके से उठा है.', 'पर्यटन से होने वाली विदेशी मुद्रा की कमाई भी बीते 4 वर्षों में 50 प्रतिशत बढ़ गई है', 'फिल्म को दर्शकों ने बहुत पंसद किया था.', 'अधिक लेनदेन', 'किया गया खर्च (राशि रुपये में)', 'बीजेपी ने इसका जवाब दिया है.', 'सर इसके लिए कौन जिम्मेदार हैं?', 'इसके उद्देश्य हैः', 'पहाड़ बर्फ से लकदक हो गए हैं.', 'इंग्लैंड की तरफ से स्टुअर्ट ब्रॉड ने खतरनाक गेंदबाजी करते हुए 4 विकेट लिए और क्रिस वोक्स ने 3 विकेट लिए.', 'वहीँ पुलिस मुर्तक और घायल लोगो के परिवार से संपर्क करने की कोशिश कर रही है.')]\n",
      "Batch 3: [('india and pakistan scored a goal each in the third quarter.', 'you need to have polycrystalline silicon displays in order to make oled televisions.', 'jagdishpur in amethi is one constituency that enjoyed uninterrupted power supply throughout the election period.', '< b > source url < / b > < b >', 'mandi ahmedgarh, october 7', '\"\"\"i was new, had no experience at this level (centre).\"', '(the writer is a political analyst)', 'there is also a sign for you in the story of moses when we sent him with a clear authority to pharaoh.', '[as for] the thief, the male and the female, amputate their hands in recompense for what they committed as a deterrent [punishment] from allah. and allah is exalted in might and wise.', 'police reached the spot after being informed and started investigating the case.', 'fed on this waste food, the weeds have grown abundantly, turning the lake into a ghastly spot.', 'what did you think about it?', 'do try', 'why albert pinto is still angry?', 'thieves decamp with rs 1.5 lakh', 'priyanka retains right to speak in personal capacity: un', 'these people are the bastards of western civilization!', \"pm modi's traditional attire\", 'in fact, the australian post - tea resurgence came a lot from the sheikh of tweak as he inspired his teammates from the dressing room to the field.', 'i wont hesitate in saying that nobody will even carry the corpse of the national flag in kashmir (if the article is scrapped).', 'devotees take dip in brahma sarovar', 'people were living without telephones earlier also.', 'a case in the matter was registered at govandi police station.', 'social media has become an integral part of our daily lives.', 'all the accused were produced in the court, which remanded them to judicial custody.', 'time is money: paris thief swipes rs 6 crore swiss watch from japanese mans wrist', 'terry, get in here, quick!', 'get help with using chromium', 'reliance power exits tiaiya power project', 'this came to light during his initial questioning by police.'), ('भारत और पाकिस्तान की टीमें तीसरे क्वॉर्टर में भी कोई गोल नहीं कर सकी.', 'ओएलईडी टीवी बनाने के लिए पास पॉली क्रिस्टलीन सिलिकॉन डिस्प्ले की जरूरत होती है.', 'अमेठी में जगदीशपुर एक ऐसी ही जगह है जिसने चुनाव के दौरान निर्बाध बिजली का मजा लिया.', 'यूआरएल', 'महेन्द्रगढ़, 7 अक्तूबर (निस)', '\"प्रधानमंत्री ने कहा, \"\"मैं नया था और इस (केंद्र) स्तर पर मुझे कोई अनुभव नहीं था.\"', '(लेखक नेपाल के राजनीतिक विश्लेषक हैं)', 'और मूसा के वृतान्त में भी (निशानी है) जब हमने फ़िरऔन के पास के स्पष्ट प्रमाण के साथ भेजा,', 'और चोर ख्वाह मर्द हो या औरत तुम उनके करतूत की सज़ा में उनका (दाहिना) हाथ काट डालो ये (उनकी सज़ा) ख़ुदा की तरफ़ से है और ख़ुदा (तो) बड़ा ज़बरदस्त हिकमत वाला है', 'सूचना पाकर मौके पर पहुंची पुलिस मामले की छानबीन शुरु कर दी है.', 'इस फेंके गये खाने से पोषण पाकर इस झील में बहुत सारी खर-पतवार उग आई है जिससे झील की हालत बहुत ही खराब हो गयी है.', 'इस पर क्या सोचा है?', 'प्रयास करें', 'अल्बर्ट पिंटो को गुस्सा क्यों आता है', 'युवक से 1.5 लाख की लूट', 'प्रियंका को निजी तौर पर बोलने का अधिकार : संयुक्त राष्ट्र', 'ये लोग पश्चिमी सभ्यता के हरामजादे हैं!', 'पारंपरिक तमिल पोशाक में नजर आए पीएम मोदी', \"दरासल, चाय के बाद ऑस्ट्रेलियाई उभार के पीछे उस 'शेख' का हाथ था जो ड़्रेसिंग रूम से अपने साथियों की हौसल-अफजाई कर रहा था.\", 'मुझे यह कहने में बिल्कुल भी संकोच नहीं होगा कि (यदि अनुच्छेद को खत्म किया जाता है तो) कोई भी कश्मीर में राष्ट्रध्वज के शव को भी हाथ नहीं लगाएगा.', 'श्रद्धालुओं ने ब्रह्मसरोवर में लगाई डुबकी', \"उन्होंने कहा था कि, 'लोग पहले भी टेलीफोन के बिना रहते थे.\", 'इस सिलसिले में गोंदा थाना में केस दर्ज हुआ.', 'आजकल की जिंदगी में सोशल मीडिया जरूरी हिस्सा हो गया है.', 'सभी आरोपियों को कोर्ट में पेश किया गया जहां अदालत ने जमानत पर उनको रिहा कर दिया.', 'फ्रांस / चोर ने पेरिस में जापानी कारोबारी की कलाई से छीनी 6 करोड़ रुपए की घड़ी', 'जल्दी से!', 'क्रोमियम उपयोग करने के साथ सहायता प्राप्त करें', 'रिलायंस पावर को मिली तिलैया परियोजना', 'पुलिस प्रारंभिक जांच में यह वजह आई सामने')]\n",
      "Batch 4: [('what officers say', 'his efforts have been in vain so far, but bains has not returned.', 'happily, no!', \"delhi police's special cell begun an investigation into the matter.\", 'astro-turf beneficial for indian hockey: balbir sr', 'special situation of jammu and kashmir', 'chief minister yogi adityanath', 'restrictions put on palm oil imports, move to hit shipments from malaysia', 'memory trainers only', 'publisher: oswaal books', 'people evacuated as volcano erupts in indonesia', '1857 the uprising', 'the delhi minorities commission (dmc) has issued a notice to the university grants commission asking why a student wearing hijab was not allowed to appear for the ugc-net exam.', 'the specified folder may not be empty.', 'watershed development fund (nabard)', 'recovery of dues by dc', \"team india's win\", 'the headline read a hindu girl stabbed and murdered by a muslim', 'stool is a solid end product of digested food.', 'students assault bhu professor on campus, 2 firs lodged', \"'ki and ka' first look: arjun-kareena's sizzling chemistry\", 'time limit for application for sale', 'fire destroys crop in 6 villages', 'there is no change in the medical condition of former president pranab mukherjee.', 'batas iconic tennis shoes.', 'but does this mean that as long as there is no clearly stated law from god, we can just follow the ways and standards that we are brought up with and that are common in our area?', 'new laws are necessary.', 'travel of passengers from afghanistan, philippines, malaysia to india is prohibited with immediate effect.', 'josh feels that in a place where curfews, shutdowns and street violence are a norm rather than an aberration, there is a genuine need for some laughter in peoples lives to sustain their sanity.', 'it also asked reply from the kerala government on this.'), ('क्या कहते हैं कंपनी अधिकारी', 'उनके प्रयास अभी तक निष्फल रहे हैं, मगर वे लेटे नहीं हैं.', 'यह ख़ुशी की बात है कि ऐसा नहीं है!', 'दिल्ली दंगों को लेकर स्पेशल सेल ने भी मुकदमा दर्ज कर जांच शुरू की थी.', 'एस्ट्रोटर्फ भारतीय हाकी के लिए फायदेमंद : बलबीर सिंह', 'जम्मू कश्मीर की विशेष स्थिति', 'साथ में मुख्यमंत्री योगी आदित्यनाथ', 'पॉम ऑइल आयात पर प्रतिबंध से मलेशिया की अकड़ ढीली पड़ी', 'केवल स्मृति प्रशिक्षकों', 'प्रकाशक :यूनीस्टार बुक्स प्रा. लि. मोहाली', 'इंडोनेशिया में ज्वालामुखी विस्फोट के बाद इलाके से लोगों की निकासी जारी', '1857 द अपराइजिंग', 'नई दिल्ली: दिल्ली अल्पसंख्यक आयोग (डीएमसी) ने विश्वविद्यालय अनुदान आयोग (यूजीसी) को एक नोटिस जारी करके पूछा है कि हिजाब पहनने वाली छात्रा को यूजीसी-नेट परीक्षा देने की अनुमति क्यों नहीं दी गई.', 'उल्लेखित फ़ोल्डर शायद खाली नहीं है.', 'अवक्रमित भूमि के विकास के लिए जलग्रहण क्षेत्र कार्यक्रम', 'डीसी द्वारा बकाये की वसूली', 'भारतीय टीम ने मुकाबले को जीता', 'उसकी हेडलाइन ये थी कि हिंदू लड़की को मुसलमान ने चाकू मारकर हत्या कर दी', 'मल पाचन किए गए भोजन का ठोस अंतिम उत्पाद होता है.', 'बीएचयू प्रफेसर को छात्रों ने दौड़ाकर पीटा, छेड़खानी का आरोप', \"'की ऐंड का' का फर्स्ट लुक: देखिए, करीना के लिए क्या कर रहे हैं अर्जुन\", 'तीन. विक्रय के लिए आवेदन के लिए समय सीमा', '6 गांवों की सैकड़ों एकड़ भूमि में लगी आग', 'पूर्व राष्ट्रपति प्रणब मुखर्जी की हालत में कोई सुधार नहीं', 'बाटा का आइकॉनिक टेनिस जूता', 'किन दो वजहों से मसीही आँख मूँदकर दुनिया के तौर - तरीके और स्तर नहीं अपनाते?', 'नये कानून बनेंगे.', 'अफगानिस्तान, फिलीपीन्स और मलेशिया से भारत आने वाले यात्रियों तत्काल प्रभाव से प्रतिबंध लगा दिया गया है', 'जोश को लगता है कि जहां कर्फ्यू, बंद और गलियों में हिंसा कोई असाधारण घटना नहीं बल्कि आम बात हो वहां लोगों का मानसिक संतुलन बनाए रखने के लिए उनके जीवने में थोड़े हास्य-विनोद की जरूरत होती है.', 'इस मामले पर केरल सरकार से जवाब भी मांगा गया है.')]\n"
     ]
    }
   ],
   "source": [
    "for batch_num, batch in enumerate(iterator):\n",
    "    print(f\"Batch {batch_num}: {batch}\")  # Debugging\n",
    "    if batch_num > 3:\n",
    "        break"
   ]
  },
  {
   "cell_type": "code",
   "execution_count": null,
   "metadata": {
    "id": "svgPrkxfZC_P"
   },
   "outputs": [],
   "source": [
    "criterian = nn.CrossEntropyLoss(ignore_index=hindi_to_index[PADDING_TOKEN],\n",
    "                                reduction='none')\n",
    "\n",
    "# When computing the loss, we are ignoring cases when the label is the padding token\n",
    "for params in transformer.parameters():\n",
    "    if params.dim() > 1:\n",
    "        nn.init.xavier_uniform_(params)\n",
    "\n",
    "optim = torch.optim.Adam(transformer.parameters(), lr=1e-4)\n",
    "device = torch.device('cuda') if torch.cuda.is_available() else torch.device('cpu')"
   ]
  },
  {
   "cell_type": "code",
   "execution_count": null,
   "metadata": {
    "id": "-0j89rauZLdl"
   },
   "outputs": [],
   "source": [
    "NEG_INFTY = -1e9\n",
    "\n",
    "def create_masks(eng_batch, hi_batch):\n",
    "    num_sentences = len(eng_batch)\n",
    "    look_ahead_mask = torch.full([max_sequence_length, max_sequence_length] , True)\n",
    "    look_ahead_mask = torch.triu(look_ahead_mask, diagonal=1)\n",
    "    encoder_padding_mask = torch.full([num_sentences, max_sequence_length, max_sequence_length] , False)\n",
    "    decoder_padding_mask_self_attention = torch.full([num_sentences, max_sequence_length, max_sequence_length] , False)\n",
    "    decoder_padding_mask_cross_attention = torch.full([num_sentences, max_sequence_length, max_sequence_length] , False)\n",
    "\n",
    "    for idx in range(num_sentences):\n",
    "      eng_sentence_length, kn_sentence_length = len(eng_batch[idx]), len(hi_batch[idx])\n",
    "      eng_chars_to_padding_mask = np.arange(eng_sentence_length + 1, max_sequence_length)\n",
    "      kn_chars_to_padding_mask = np.arange(kn_sentence_length + 1, max_sequence_length)\n",
    "      encoder_padding_mask[idx, :, eng_chars_to_padding_mask] = True\n",
    "      encoder_padding_mask[idx, eng_chars_to_padding_mask, :] = True\n",
    "      decoder_padding_mask_self_attention[idx, :, kn_chars_to_padding_mask] = True\n",
    "      decoder_padding_mask_self_attention[idx, kn_chars_to_padding_mask, :] = True\n",
    "      decoder_padding_mask_cross_attention[idx, :, eng_chars_to_padding_mask] = True\n",
    "      decoder_padding_mask_cross_attention[idx, kn_chars_to_padding_mask, :] = True\n",
    "\n",
    "    encoder_self_attention_mask = torch.where(encoder_padding_mask, NEG_INFTY, 0)\n",
    "    decoder_self_attention_mask =  torch.where(look_ahead_mask + decoder_padding_mask_self_attention, NEG_INFTY, 0)\n",
    "    decoder_cross_attention_mask = torch.where(decoder_padding_mask_cross_attention, NEG_INFTY, 0)\n",
    "    return encoder_self_attention_mask, decoder_self_attention_mask, decoder_cross_attention_mask"
   ]
  },
  {
   "cell_type": "markdown",
   "metadata": {
    "id": "dMeAk-0guMag"
   },
   "source": [
    "## Training Transformer"
   ]
  },
  {
   "cell_type": "code",
   "execution_count": null,
   "metadata": {
    "colab": {
     "base_uri": "https://localhost:8080/"
    },
    "executionInfo": {
     "elapsed": 972847,
     "status": "ok",
     "timestamp": 1740194632614,
     "user": {
      "displayName": "imran khan",
      "userId": "04717711026660830603"
     },
     "user_tz": -330
    },
    "id": "4HK5YCTSZhao",
    "outputId": "239fb5ce-5170-4381-fecf-e0cc4fd3ebe2"
   },
   "outputs": [
    {
     "name": "stdout",
     "output_type": "stream",
     "text": [
      "Epoch 0\n"
     ]
    },
    {
     "name": "stderr",
     "output_type": "stream",
     "text": [
      "\r0it [00:00, ?it/s]"
     ]
    },
    {
     "name": "stdout",
     "output_type": "stream",
     "text": [
      "Iteration 0 : 1.795615553855896\n",
      "English: whosoever desires the reward of the world, with allah is the reward of the world and of the everlasting life. allah is the hearer, the seer.\n",
      "Hindi Translation: और जो शख्स (अपने आमाल का) बदला दुनिया ही में चाहता है तो ख़ुदा के पास दुनिया व आख़िरत दोनों का अज्र मौजूद है और ख़ुदा तो हर शख्स की सुनता और सबको देखता है\n",
      "Hindi Prediction: हर जि (ख़श ककपने कपान कर  काला केखिया कै कां हीहते है को ह़ुदा कि लरस केनिशा जहकप़िर  के ों को सप़ञ केज़द कै और उ़ुदा को कै का्क कर केरेे हर उे ो केखिे है\n"
     ]
    },
    {
     "name": "stderr",
     "output_type": "stream",
     "text": [
      "\r1it [00:00,  2.61it/s]"
     ]
    },
    {
     "name": "stdout",
     "output_type": "stream",
     "text": [
      "Evaluation translation (should we go to the mall?) : ('क्या आप क्या करना चाहिए?<END>',)\n",
      "-------------------------------------------\n"
     ]
    },
    {
     "name": "stderr",
     "output_type": "stream",
     "text": [
      "101it [00:11,  5.39it/s]"
     ]
    },
    {
     "name": "stdout",
     "output_type": "stream",
     "text": [
      "Iteration 100 : 1.7464842796325684\n",
      "English: a case was then registered against him and he was taken into custody.\n",
      "Hindi Translation: इसके बाद उन्होंने गिरफ़्तारी दी और उनके ख़िलाफ़ मुक़दमा चला.\n",
      "Hindi Prediction: औस े बाद कनकहेंने कुरफ््तार  के कर अनके पिालाड  केकारम रका  \n",
      "Evaluation translation (should we go to the mall?) : ('क्या आप क्या करते हैं?<END>',)\n",
      "-------------------------------------------\n"
     ]
    },
    {
     "name": "stderr",
     "output_type": "stream",
     "text": [
      "201it [00:23,  5.43it/s]"
     ]
    },
    {
     "name": "stdout",
     "output_type": "stream",
     "text": [
      "Iteration 200 : 1.8305506706237793\n",
      "English: they shouldn't lose sight of that.\n",
      "Hindi Translation: उनमें उपेक्षा की भावना नहीं पनपने देना चाहिए.\n",
      "Hindi Prediction: इनकें कनचक्स् के कीगन  कहीं हरााी केखे हाहिए.\n",
      "Evaluation translation (should we go to the mall?) : ('क्या आप क्या कहां है?<END>',)\n",
      "-------------------------------------------\n"
     ]
    },
    {
     "name": "stderr",
     "output_type": "stream",
     "text": [
      "300it [00:34,  8.81it/s]"
     ]
    },
    {
     "name": "stdout",
     "output_type": "stream",
     "text": [
      "Iteration 300 : 1.814388632774353\n",
      "English: police had used mild force to disperse the crowd.\n",
      "Hindi Translation: ीड़ को तितर-बितर करने के लिए पुलिस ने हल्का बल का प्रयोग भी किया.\n",
      "Hindi Prediction: पड़ाकी सीर् पाह  कोने के लिए क्लिस के कैालररका कर ह्रदागिकी हरया \n"
     ]
    },
    {
     "name": "stderr",
     "output_type": "stream",
     "text": [
      "302it [00:34,  5.23it/s]"
     ]
    },
    {
     "name": "stdout",
     "output_type": "stream",
     "text": [
      "Evaluation translation (should we go to the mall?) : ('क्या आप क्या है कि क्या है?<END>',)\n",
      "-------------------------------------------\n"
     ]
    },
    {
     "name": "stderr",
     "output_type": "stream",
     "text": [
      "401it [00:46,  5.58it/s]"
     ]
    },
    {
     "name": "stdout",
     "output_type": "stream",
     "text": [
      "Iteration 400 : 1.8525391817092896\n",
      "English: his video is going viral on social media.\n",
      "Hindi Translation: जिसके वीडियो सोशल मीडिया पर वायरल हो रहे हैं.\n",
      "Hindi Prediction: उिसके बिडियो केशल मेडिया हर हियरल है गहे हैं.\n",
      "Evaluation translation (should we go to the mall?) : ('क्या आप क्या करते हैं?<END>',)\n",
      "-------------------------------------------\n"
     ]
    },
    {
     "name": "stderr",
     "output_type": "stream",
     "text": [
      "501it [00:57,  5.56it/s]"
     ]
    },
    {
     "name": "stdout",
     "output_type": "stream",
     "text": [
      "Iteration 500 : 1.7403610944747925\n",
      "English: two tdp mps resigned from modi govt\n",
      "Hindi Translation: टीडीपी के दो मंत्रियों ने पीएम को सौंपे इस्तीफे\n",
      "Hindi Prediction: मीमी ी के लौ केत्रीमां के काएम का कमंपा कं्तेफा कककककककककककककककिकककककककककककिक कतकतकककककककककिककतकतककककतकककतकतककककितककतक ततततकतकककककिककतककिकतकतकककककतककततकिककककिकककककिकिककिरतिततककककिककिकककतततकततीत क  ककक\n",
      "Evaluation translation (should we go to the mall?) : ('क्या आप क्या करते हैं?<END>',)\n",
      "-------------------------------------------\n"
     ]
    },
    {
     "name": "stderr",
     "output_type": "stream",
     "text": [
      "601it [01:08,  5.47it/s]"
     ]
    },
    {
     "name": "stdout",
     "output_type": "stream",
     "text": [
      "Iteration 600 : 1.8025081157684326\n",
      "English: so these are the good things\n",
      "Hindi Translation: वैसे ये बातें यूं ही बरा-ए-बैत हैं\n",
      "Hindi Prediction: इहंे कह काद ं कहर को काात\n",
      "Evaluation translation (should we go to the mall?) : ('क्या आप क्या कहां है?<END>',)\n",
      "-------------------------------------------\n"
     ]
    },
    {
     "name": "stderr",
     "output_type": "stream",
     "text": [
      "700it [01:19,  9.00it/s]"
     ]
    },
    {
     "name": "stdout",
     "output_type": "stream",
     "text": [
      "Iteration 700 : 1.703768014907837\n",
      "English: post name: part-time general duty medical consultant\n",
      "Hindi Translation: रिक्ति का नाम: अंशकालिक मेडिकल रेफरी\n",
      "Hindi Prediction: पापेष  पे किग  पपकाार क सांिय  काल्  किककककककककककककककककतक  कक कककतककककककतितकत कि तककततततकिकककककतकतततककतककिककतकिककककतततकतततकततकतकतककिततककिकककतककककिककिकतकततकततक   िकत    ातितिकतककककिकतततितक त ततत क ाककक\n"
     ]
    },
    {
     "name": "stderr",
     "output_type": "stream",
     "text": [
      "\r701it [01:19,  5.02it/s]"
     ]
    },
    {
     "name": "stdout",
     "output_type": "stream",
     "text": [
      "Evaluation translation (should we go to the mall?) : ('क्या आप को क्या है?<END>',)\n",
      "-------------------------------------------\n"
     ]
    },
    {
     "name": "stderr",
     "output_type": "stream",
     "text": [
      "801it [01:31,  5.56it/s]"
     ]
    },
    {
     "name": "stdout",
     "output_type": "stream",
     "text": [
      "Iteration 800 : 1.6701570749282837\n",
      "English: the committee discharges such other functions as may be assigned to it by the speaker / chairman, rajya sabha, as the case may be, from time to time.\n",
      "Hindi Translation: समिति ऐसे अन्य कृत्यों का निर्वहन करती है जो उसे अध्यक्ष द्वारा या राज्य सभा के सभापति द्वारा, जैसी भी स्थिति हो, समय समय पर सौंपे जाएं.\n",
      "Hindi Prediction: सुाति कसा अपुय केष्र ं के केर्धाा के ेयहै औि सनक पपियक्ष किवारा का हहज्य केी के साीषा  केवारा  सिसे की क्थात  कै  काा के् क् सेंप  मातगग\n",
      "Evaluation translation (should we go to the mall?) : ('क्या आप क्या कहां है?<END>',)\n",
      "-------------------------------------------\n"
     ]
    },
    {
     "name": "stderr",
     "output_type": "stream",
     "text": [
      "901it [01:42,  5.54it/s]"
     ]
    },
    {
     "name": "stdout",
     "output_type": "stream",
     "text": [
      "Iteration 900 : 1.7038352489471436\n",
      "English: investment clearance not obtained by state\n",
      "Hindi Translation: निवेश मंजूरी राज्य द्वारा प्राप्त नहीं की गई\n",
      "Hindi Prediction: किरेश केतूर  काजनय केवारा कररदध्त कहीं कर हई ककककककककककककककककककककककककककककककककककतकककिककककककतकककककतकतिकतकककिकिकककककिककककककतततकककततकतकतककककककतककतककककिककतककककत किकककककतिकतििििितततककककककतककककतकिकककतककककककक\n",
      "Evaluation translation (should we go to the mall?) : ('क्या आप क्या कहां है?<END>',)\n",
      "-------------------------------------------\n"
     ]
    },
    {
     "name": "stderr",
     "output_type": "stream",
     "text": [
      "1000it [01:53,  8.84it/s]"
     ]
    },
    {
     "name": "stdout",
     "output_type": "stream",
     "text": [
      "Iteration 1000 : 1.8504953384399414\n",
      "English: why should we not conclude that jehovahs day is a long way off?\n",
      "Hindi Translation: हमें यह निष्कर्ष क्यों नहीं निकालना चाहिए कि यहोवा का दिन बहुत दूर है?\n",
      "Hindi Prediction: कम ं केोकेश्टा्म केयां केीं कहचलल े काहतए?हितये वा क् केख कनुत किस कैं\n"
     ]
    },
    {
     "name": "stderr",
     "output_type": "stream",
     "text": [
      "1003it [01:54,  6.32it/s]"
     ]
    },
    {
     "name": "stdout",
     "output_type": "stream",
     "text": [
      "Evaluation translation (should we go to the mall?) : ('क्या आप क्या करने के लिए क्या है?<END>',)\n",
      "-------------------------------------------\n"
     ]
    },
    {
     "name": "stderr",
     "output_type": "stream",
     "text": [
      "1100it [02:04,  8.92it/s]"
     ]
    },
    {
     "name": "stdout",
     "output_type": "stream",
     "text": [
      "Iteration 1100 : 1.6910508871078491\n",
      "English: thats the name of our film and so is the news i am sharing.\n",
      "Hindi Translation: यह हमारी फिल्म का नाम है और इसलिए यह खबर साझा कर रहा हूं.\n",
      "Hindi Prediction: इह कैारा मिल्म मे केम कै कर उस िए सह सार हकमा हरतहही हैं.\n"
     ]
    },
    {
     "name": "stderr",
     "output_type": "stream",
     "text": [
      "\r1101it [02:05,  4.94it/s]"
     ]
    },
    {
     "name": "stdout",
     "output_type": "stream",
     "text": [
      "Evaluation translation (should we go to the mall?) : ('क्या आप क्या कहां है?<END>',)\n",
      "-------------------------------------------\n"
     ]
    },
    {
     "name": "stderr",
     "output_type": "stream",
     "text": [
      "1201it [02:16,  5.92it/s]"
     ]
    },
    {
     "name": "stdout",
     "output_type": "stream",
     "text": [
      "Iteration 1200 : 1.8760147094726562\n",
      "English: i was in the back seat of the car.\n",
      "Hindi Translation: मैं ड्राइवर के पीछे वाली सीट पर था.\n",
      "Hindi Prediction: मैं उिराइटर से लाछे माले हेट कर के.\n",
      "Evaluation translation (should we go to the mall?) : ('क्या आपको क्या है?<END>',)\n",
      "-------------------------------------------\n"
     ]
    },
    {
     "name": "stderr",
     "output_type": "stream",
     "text": [
      "1300it [02:27,  9.21it/s]"
     ]
    },
    {
     "name": "stdout",
     "output_type": "stream",
     "text": [
      "Iteration 1300 : 1.7064942121505737\n",
      "English: unable to upload to '%1 '.\n",
      "Hindi Translation: '% 1' पर अपलोड करने में असफल.\n",
      "Hindi Prediction: 1  1  कर कपना ़का े मिं 1प्ल \n"
     ]
    },
    {
     "name": "stderr",
     "output_type": "stream",
     "text": [
      "1303it [02:27,  6.96it/s]"
     ]
    },
    {
     "name": "stdout",
     "output_type": "stream",
     "text": [
      "Evaluation translation (should we go to the mall?) : ('क्या आप क्या है कि क्या है?<END>',)\n",
      "-------------------------------------------\n"
     ]
    },
    {
     "name": "stderr",
     "output_type": "stream",
     "text": [
      "1400it [02:38,  8.83it/s]"
     ]
    },
    {
     "name": "stdout",
     "output_type": "stream",
     "text": [
      "Iteration 1400 : 1.7178148031234741\n",
      "English: school teacher dies in freak accident\n",
      "Hindi Translation: स्कूल में हार्ट अटैक से अंग्रेजी शिक्षक की मौत\n",
      "Hindi Prediction: संटूल कें कोल वरकप्कलके पधत्रेस  किक्ष  की सौत\n"
     ]
    },
    {
     "name": "stderr",
     "output_type": "stream",
     "text": [
      "1402it [02:39,  5.48it/s]"
     ]
    },
    {
     "name": "stdout",
     "output_type": "stream",
     "text": [
      "Evaluation translation (should we go to the mall?) : ('क्या आप क्या कहां करें?<END>',)\n",
      "-------------------------------------------\n"
     ]
    },
    {
     "name": "stderr",
     "output_type": "stream",
     "text": [
      "1500it [02:49,  8.82it/s]"
     ]
    },
    {
     "name": "stdout",
     "output_type": "stream",
     "text": [
      "Iteration 1500 : 1.7455214262008667\n",
      "English: we constructed the universe with power, and we are expanding it.\n",
      "Hindi Translation: आकाश को हमने अपने हाथ के बल से बनाया और हम बड़ी समाई रखनेवाले है\n",
      "Hindi Prediction: हपान के पम े कपने पमल कि ला्कक कााया जर उम सा़ी के्ज हहते ाले कैंककककककककककककककततततततततककतकककतततततकककतततकिकतककतककत ततकतततततततकततकत तककतककककततककककककतकतकतततकतक तककककत तककााकततकककककतकककततत क  कतततककततककक\n"
     ]
    },
    {
     "name": "stderr",
     "output_type": "stream",
     "text": [
      "\r1501it [02:50,  5.04it/s]"
     ]
    },
    {
     "name": "stdout",
     "output_type": "stream",
     "text": [
      "Evaluation translation (should we go to the mall?) : ('क्या आप क्या कहाँ है?<END>',)\n",
      "-------------------------------------------\n"
     ]
    },
    {
     "name": "stderr",
     "output_type": "stream",
     "text": [
      "1601it [03:01,  5.50it/s]"
     ]
    },
    {
     "name": "stdout",
     "output_type": "stream",
     "text": [
      "Iteration 1600 : 1.779479742050171\n",
      "English: in the interest of farmers\n",
      "Hindi Translation: किसानों के हितों के लिए\n",
      "Hindi Prediction: युसीन ं को लार्ं को बिए िििकककककिककककतरककककककककककककककककककककककककककककककककककिककककककततकिततकतककिककककततकततततकतकककककतकककतिकतकतततततततकककतककततककिककककककककककककककककतककककतकककककिरककिकका  ककककककककककककककतकततकतककतककतक\n",
      "Evaluation translation (should we go to the mall?) : ('क्या आप क्या करते हैं?<END>',)\n",
      "-------------------------------------------\n"
     ]
    },
    {
     "name": "stderr",
     "output_type": "stream",
     "text": [
      "1701it [03:12,  5.45it/s]"
     ]
    },
    {
     "name": "stdout",
     "output_type": "stream",
     "text": [
      "Iteration 1700 : 1.8141295909881592\n",
      "English: i got a target on my back, though.\n",
      "Hindi Translation: मैं मेरी पीठ पर एक लक्ष्य है, हालांकि मिला.\n",
      "Hindi Prediction: मैं कैरे मरछ कर कक कि्किय कै. तमथां.ि मैला \n",
      "Evaluation translation (should we go to the mall?) : ('क्या आप क्या करते हैं?<END>',)\n",
      "-------------------------------------------\n"
     ]
    },
    {
     "name": "stderr",
     "output_type": "stream",
     "text": [
      "1716it [03:14,  8.82it/s]\n"
     ]
    },
    {
     "name": "stdout",
     "output_type": "stream",
     "text": [
      "Epoch 1\n"
     ]
    },
    {
     "name": "stderr",
     "output_type": "stream",
     "text": [
      "\r0it [00:00, ?it/s]"
     ]
    },
    {
     "name": "stdout",
     "output_type": "stream",
     "text": [
      "Iteration 0 : 1.7766996622085571\n",
      "English: whosoever desires the reward of the world, with allah is the reward of the world and of the everlasting life. allah is the hearer, the seer.\n",
      "Hindi Translation: और जो शख्स (अपने आमाल का) बदला दुनिया ही में चाहता है तो ख़ुदा के पास दुनिया व आख़िरत दोनों का अज्र मौजूद है और ख़ुदा तो हर शख्स की सुनता और सबको देखता है\n",
      "Hindi Prediction: हर जो हा़स ककपरे कदान कर  काला केनायाँजै हां तुहते है औो क़ुदा कर लरस केनिया जहकप़िल  के ों को कप़ञ केज़द को और उ़ुदा को है कु्स कर केनाे हर हे े तेखेे थै\n"
     ]
    },
    {
     "name": "stderr",
     "output_type": "stream",
     "text": [
      "3it [00:00,  6.33it/s]"
     ]
    },
    {
     "name": "stdout",
     "output_type": "stream",
     "text": [
      "Evaluation translation (should we go to the mall?) : ('क्या आप क्या करना चाहिए?<END>',)\n",
      "-------------------------------------------\n"
     ]
    },
    {
     "name": "stderr",
     "output_type": "stream",
     "text": [
      "101it [00:11,  5.56it/s]"
     ]
    },
    {
     "name": "stdout",
     "output_type": "stream",
     "text": [
      "Iteration 100 : 1.7101398706436157\n",
      "English: a case was then registered against him and he was taken into custody.\n",
      "Hindi Translation: इसके बाद उन्होंने गिरफ़्तारी दी और उनके ख़िलाफ़ मुक़दमा चला.\n",
      "Hindi Prediction: औस े बाद कन्होंने किरा् तार  कि कर मनके पििला   केझ्ाम  का  \n",
      "Evaluation translation (should we go to the mall?) : ('क्या आप क्या करते हैं?<END>',)\n",
      "-------------------------------------------\n"
     ]
    },
    {
     "name": "stderr",
     "output_type": "stream",
     "text": [
      "200it [00:22,  8.88it/s]"
     ]
    },
    {
     "name": "stdout",
     "output_type": "stream",
     "text": [
      "Iteration 200 : 1.8033027648925781\n",
      "English: they shouldn't lose sight of that.\n",
      "Hindi Translation: उनमें उपेक्षा की भावना नहीं पनपने देना चाहिए.\n",
      "Hindi Prediction: इनकें सनलकेत  को कीरन  कहीं हरीरी किखा हाहिए.\n"
     ]
    },
    {
     "name": "stderr",
     "output_type": "stream",
     "text": [
      "\r201it [00:22,  4.78it/s]"
     ]
    },
    {
     "name": "stdout",
     "output_type": "stream",
     "text": [
      "Evaluation translation (should we go to the mall?) : ('क्या आप क्या करना चाहिए?<END>',)\n",
      "-------------------------------------------\n"
     ]
    },
    {
     "name": "stderr",
     "output_type": "stream",
     "text": [
      "300it [00:33,  9.18it/s]"
     ]
    },
    {
     "name": "stdout",
     "output_type": "stream",
     "text": [
      "Iteration 300 : 1.7623728513717651\n",
      "English: police had used mild force to disperse the crowd.\n",
      "Hindi Translation: ीड़ को तितर-बितर करने के लिए पुलिस ने हल्का बल का प्रयोग भी किया.\n",
      "Hindi Prediction: पडीिके पेर् पान ाकी े के लिए क्लिस के कीाकर का री सडरदोग की करया \n"
     ]
    },
    {
     "name": "stderr",
     "output_type": "stream",
     "text": [
      "303it [00:34,  6.92it/s]"
     ]
    },
    {
     "name": "stdout",
     "output_type": "stream",
     "text": [
      "Evaluation translation (should we go to the mall?) : ('क्या आप क्या है कि क्या है?<END>',)\n",
      "-------------------------------------------\n"
     ]
    },
    {
     "name": "stderr",
     "output_type": "stream",
     "text": [
      "401it [00:45,  5.58it/s]"
     ]
    },
    {
     "name": "stdout",
     "output_type": "stream",
     "text": [
      "Iteration 400 : 1.7986348867416382\n",
      "English: his video is going viral on social media.\n",
      "Hindi Translation: जिसके वीडियो सोशल मीडिया पर वायरल हो रहे हैं.\n",
      "Hindi Prediction: उिसके बिडिया केशल मेडिया कर कियरल है गहा हैं.\n",
      "Evaluation translation (should we go to the mall?) : ('क्या आप क्या करते हैं?<END>',)\n",
      "-------------------------------------------\n"
     ]
    },
    {
     "name": "stderr",
     "output_type": "stream",
     "text": [
      "500it [00:56,  8.77it/s]"
     ]
    },
    {
     "name": "stdout",
     "output_type": "stream",
     "text": [
      "Iteration 500 : 1.7207127809524536\n",
      "English: two tdp mps resigned from modi govt\n",
      "Hindi Translation: टीडीपी के दो मंत्रियों ने पीएम को सौंपे इस्तीफे\n",
      "Hindi Prediction: क्पी ी के लो पेत्रीमों के करएम का पमंप\n"
     ]
    },
    {
     "name": "stderr",
     "output_type": "stream",
     "text": [
      "503it [00:57,  6.22it/s]"
     ]
    },
    {
     "name": "stdout",
     "output_type": "stream",
     "text": [
      "Evaluation translation (should we go to the mall?) : ('क्या आप क्या है कि क्या है?<END>',)\n",
      "-------------------------------------------\n"
     ]
    },
    {
     "name": "stderr",
     "output_type": "stream",
     "text": [
      "600it [01:07,  8.96it/s]"
     ]
    },
    {
     "name": "stdout",
     "output_type": "stream",
     "text": [
      "Iteration 600 : 1.7287408113479614\n",
      "English: so these are the good things\n",
      "Hindi Translation: वैसे ये बातें यूं ही बरा-ए-बैत हैं\n",
      "Hindi Prediction: इेसे कह कार   कहन कै हाां\n",
      "Evaluation translation (should we go to the mall?) : ('क्या आपको क्या है?<END>',)\n",
      "-------------------------------------------\n"
     ]
    },
    {
     "name": "stderr",
     "output_type": "stream",
     "text": [
      "701it [01:19,  5.43it/s]"
     ]
    },
    {
     "name": "stdout",
     "output_type": "stream",
     "text": [
      "Iteration 700 : 1.6745028495788574\n",
      "English: post name: part-time general duty medical consultant\n",
      "Hindi Translation: रिक्ति का नाम: अंशकालिक मेडिकल रेफरी\n",
      "Hindi Prediction: पापास  पा पिम  पंतो   क केंिय  काल्् तकककककककककककककककककककककककतककककककक कििकककककक कतकतकतककककिकिकतककककततकतक क िककककककक   कततततततकककक ककककिकिकककककततकककतत तततततकत कककक ि  क ाातितरतककककककककककतकक त ततत  कतकक\n",
      "Evaluation translation (should we go to the mall?) : ('क्या आप क्या करना चाहिए?<END>',)\n",
      "-------------------------------------------\n"
     ]
    },
    {
     "name": "stderr",
     "output_type": "stream",
     "text": [
      "801it [01:30,  5.53it/s]"
     ]
    },
    {
     "name": "stdout",
     "output_type": "stream",
     "text": [
      "Iteration 800 : 1.6312179565429688\n",
      "English: the committee discharges such other functions as may be assigned to it by the speaker / chairman, rajya sabha, as the case may be, from time to time.\n",
      "Hindi Translation: समिति ऐसे अन्य कृत्यों का निर्वहन करती है जो उसे अध्यक्ष द्वारा या राज्य सभा के सभापति द्वारा, जैसी भी स्थिति हो, समय समय पर सौंपे जाएं.\n",
      "Hindi Prediction: इंिति कसे बपुय केष्वुं के कार्णाा किने है कि कने पपियक्ष मिवारा का हहज्य केी के साी न  केवारा  जिसे की केथात  कै  कमय केा क् सकंपी का गग\n",
      "Evaluation translation (should we go to the mall?) : ('क्या आप क्या कहां है?<END>',)\n",
      "-------------------------------------------\n"
     ]
    },
    {
     "name": "stderr",
     "output_type": "stream",
     "text": [
      "900it [01:41,  8.91it/s]"
     ]
    },
    {
     "name": "stdout",
     "output_type": "stream",
     "text": [
      "Iteration 900 : 1.6807961463928223\n",
      "English: investment clearance not obtained by state\n",
      "Hindi Translation: निवेश मंजूरी राज्य द्वारा प्राप्त नहीं की गई\n",
      "Hindi Prediction: भिराश केतूर  काज्य केवारा कररभर्त कहीं को सई ककककककककककककककककककििककिककककिककककििितकककककतकिककककककककतकतकतकििििििकककततकततततकततततततकतककििकतककककककककतकिकककककततततकककतककककिितितकितकतितकककककततततककतकितितततकतककककक\n"
     ]
    },
    {
     "name": "stderr",
     "output_type": "stream",
     "text": [
      "\r901it [01:42,  3.95it/s]"
     ]
    },
    {
     "name": "stdout",
     "output_type": "stream",
     "text": [
      "Evaluation translation (should we go to the mall?) : ('क्या आप क्या करने के लिए क्या है?<END>',)\n",
      "-------------------------------------------\n"
     ]
    },
    {
     "name": "stderr",
     "output_type": "stream",
     "text": [
      "1000it [01:53,  8.82it/s]"
     ]
    },
    {
     "name": "stdout",
     "output_type": "stream",
     "text": [
      "Iteration 1000 : 1.8265999555587769\n",
      "English: why should we not conclude that jehovahs day is a long way off?\n",
      "Hindi Translation: हमें यह निष्कर्ष क्यों नहीं निकालना चाहिए कि यहोवा का दिन बहुत दूर है?\n",
      "Hindi Prediction: कम ं कहोकेर्ट ्म क्यां केीं कहकलल े चाहतए?क् कह वा क् केख कनुत केस कै?\n"
     ]
    },
    {
     "name": "stderr",
     "output_type": "stream",
     "text": [
      "\r1001it [01:53,  4.03it/s]"
     ]
    },
    {
     "name": "stdout",
     "output_type": "stream",
     "text": [
      "Evaluation translation (should we go to the mall?) : ('क्या आपको क्या करने के लिए क्या है?<END>',)\n",
      "-------------------------------------------\n"
     ]
    },
    {
     "name": "stderr",
     "output_type": "stream",
     "text": [
      "1101it [02:04,  5.54it/s]"
     ]
    },
    {
     "name": "stdout",
     "output_type": "stream",
     "text": [
      "Iteration 1100 : 1.66429603099823\n",
      "English: thats the name of our film and so is the news i am sharing.\n",
      "Hindi Translation: यह हमारी फिल्म का नाम है और इसलिए यह खबर साझा कर रहा हूं.\n",
      "Hindi Prediction: इह कैारा हिल्म के मेम कै कर मस िए मह सा  हेमा हर रहे हैं.\n",
      "Evaluation translation (should we go to the mall?) : ('क्या आप क्या कहां है?<END>',)\n",
      "-------------------------------------------\n"
     ]
    },
    {
     "name": "stderr",
     "output_type": "stream",
     "text": [
      "1201it [02:16,  5.93it/s]"
     ]
    },
    {
     "name": "stdout",
     "output_type": "stream",
     "text": [
      "Iteration 1200 : 1.8432703018188477\n",
      "English: i was in the back seat of the car.\n",
      "Hindi Translation: मैं ड्राइवर के पीछे वाली सीट पर था.\n",
      "Hindi Prediction: मैं इिराइनर के लाछे काया हेम कर ही.\n",
      "Evaluation translation (should we go to the mall?) : ('क्या आपको क्या है?<END>',)\n",
      "-------------------------------------------\n"
     ]
    },
    {
     "name": "stderr",
     "output_type": "stream",
     "text": [
      "1300it [02:27,  8.79it/s]"
     ]
    },
    {
     "name": "stdout",
     "output_type": "stream",
     "text": [
      "Iteration 1300 : 1.6465034484863281\n",
      "English: unable to upload to '%1 '.\n",
      "Hindi Translation: '% 1' पर अपलोड करने में असफल.\n",
      "Hindi Prediction: ज  1  1ा 1पने ़की े किं 1प्ल \n"
     ]
    },
    {
     "name": "stderr",
     "output_type": "stream",
     "text": [
      "1302it [02:27,  5.14it/s]"
     ]
    },
    {
     "name": "stdout",
     "output_type": "stream",
     "text": [
      "Evaluation translation (should we go to the mall?) : ('क्या आप क्या करना चाहते हैं?<END>',)\n",
      "-------------------------------------------\n"
     ]
    },
    {
     "name": "stderr",
     "output_type": "stream",
     "text": [
      "1401it [02:38,  5.61it/s]"
     ]
    },
    {
     "name": "stdout",
     "output_type": "stream",
     "text": [
      "Iteration 1400 : 1.6772714853286743\n",
      "English: school teacher dies in freak accident\n",
      "Hindi Translation: स्कूल में हार्ट अटैक से अंग्रेजी शिक्षक की मौत\n",
      "Hindi Prediction: क्वूल कें काल षीकपलक्के कधत्रहस  कुकारा का कौत\n",
      "Evaluation translation (should we go to the mall?) : ('क्या आप क्या करते हैं?<END>',)\n",
      "-------------------------------------------\n"
     ]
    },
    {
     "name": "stderr",
     "output_type": "stream",
     "text": [
      "1500it [02:49,  9.18it/s]"
     ]
    },
    {
     "name": "stdout",
     "output_type": "stream",
     "text": [
      "Iteration 1500 : 1.71200430393219\n",
      "English: we constructed the universe with power, and we are expanding it.\n",
      "Hindi Translation: आकाश को हमने अपने हाथ के बल से बनाया और हम बड़ी समाई रखनेवाले है\n",
      "Hindi Prediction: हपोर के पम े कपने पमल कि ला्के कााएा जर कम का़ी के्न हहता ाला कैंककतकककततककककककककततततककककििकतकततततकतकककक ककततककककक त कतततततकतककककककततकककककककककककतककतकततततक  त तकककतकतर क ाक ततककककककल ककक    ततततककक ककक\n"
     ]
    },
    {
     "name": "stderr",
     "output_type": "stream",
     "text": [
      "1503it [02:50,  6.93it/s]"
     ]
    },
    {
     "name": "stdout",
     "output_type": "stream",
     "text": [
      "Evaluation translation (should we go to the mall?) : ('क्या आप क्या करना चाहते हैं?<END>',)\n",
      "-------------------------------------------\n"
     ]
    },
    {
     "name": "stderr",
     "output_type": "stream",
     "text": [
      "1601it [03:01,  5.49it/s]"
     ]
    },
    {
     "name": "stdout",
     "output_type": "stream",
     "text": [
      "Iteration 1600 : 1.776046872138977\n",
      "English: in the interest of farmers\n",
      "Hindi Translation: किसानों के हितों के लिए\n",
      "Hindi Prediction: योसीन ं को लांनं को बिए करकराकककरकिकककककककककककककककककककककककककककककककककककककककककिककिकककककतककककककककतककतककककाकककककककककतकककतककततततकककतकककतककककककककककककतकककककककतककक ककककककककररककााााकककककककतकतककककक तततततके कककक\n",
      "Evaluation translation (should we go to the mall?) : ('क्या आप क्या करेंगे?<END>',)\n",
      "-------------------------------------------\n"
     ]
    },
    {
     "name": "stderr",
     "output_type": "stream",
     "text": [
      "1700it [03:12,  8.99it/s]"
     ]
    },
    {
     "name": "stdout",
     "output_type": "stream",
     "text": [
      "Iteration 1700 : 1.7727411985397339\n",
      "English: i got a target on my back, though.\n",
      "Hindi Translation: मैं मेरी पीठ पर एक लक्ष्य है, हालांकि मिला.\n",
      "Hindi Prediction: मैं सैरे मतछ कर कक सि्षिय है. जमथांकि हैला \n"
     ]
    },
    {
     "name": "stderr",
     "output_type": "stream",
     "text": [
      "\r1701it [03:12,  4.36it/s]"
     ]
    },
    {
     "name": "stdout",
     "output_type": "stream",
     "text": [
      "Evaluation translation (should we go to the mall?) : ('क्या आप क्या है कि क्या है?<END>',)\n",
      "-------------------------------------------\n"
     ]
    },
    {
     "name": "stderr",
     "output_type": "stream",
     "text": [
      "1716it [03:14,  8.82it/s]\n"
     ]
    },
    {
     "name": "stdout",
     "output_type": "stream",
     "text": [
      "Epoch 2\n"
     ]
    },
    {
     "name": "stderr",
     "output_type": "stream",
     "text": [
      "\r0it [00:00, ?it/s]"
     ]
    },
    {
     "name": "stdout",
     "output_type": "stream",
     "text": [
      "Iteration 0 : 1.7364705801010132\n",
      "English: whosoever desires the reward of the world, with allah is the reward of the world and of the everlasting life. allah is the hearer, the seer.\n",
      "Hindi Translation: और जो शख्स (अपने आमाल का) बदला दुनिया ही में चाहता है तो ख़ुदा के पास दुनिया व आख़िरत दोनों का अज्र मौजूद है और ख़ुदा तो हर शख्स की सुनता और सबको देखता है\n",
      "Hindi Prediction: और जि (ख़स कऐपने कपान कर  का ा केखिया है हां कीहते है तो उ़ुदा कर लास केनिया हहकप़िर  कि ों को कप़ञाकेज़दाको तर त़ुदा को कै कख़स कर तेनाे हर जे ा किखते है\n"
     ]
    },
    {
     "name": "stderr",
     "output_type": "stream",
     "text": [
      "3it [00:00,  5.41it/s]"
     ]
    },
    {
     "name": "stdout",
     "output_type": "stream",
     "text": [
      "Evaluation translation (should we go to the mall?) : ('क्या आप क्या करना चाहिए?<END>',)\n",
      "-------------------------------------------\n"
     ]
    },
    {
     "name": "stderr",
     "output_type": "stream",
     "text": [
      "101it [00:11,  5.50it/s]"
     ]
    },
    {
     "name": "stdout",
     "output_type": "stream",
     "text": [
      "Iteration 100 : 1.703128457069397\n",
      "English: a case was then registered against him and he was taken into custody.\n",
      "Hindi Translation: इसके बाद उन्होंने गिरफ़्तारी दी और उनके ख़िलाफ़ मुक़दमा चला.\n",
      "Hindi Prediction: मस े बाद कन्होंने कुरफ््तेर  कि कर अनके स़ुला   केझा ी  काा \n",
      "Evaluation translation (should we go to the mall?) : ('क्या आप क्या है?<END>',)\n",
      "-------------------------------------------\n"
     ]
    },
    {
     "name": "stderr",
     "output_type": "stream",
     "text": [
      "200it [00:22,  9.17it/s]"
     ]
    },
    {
     "name": "stdout",
     "output_type": "stream",
     "text": [
      "Iteration 200 : 1.7521897554397583\n",
      "English: they shouldn't lose sight of that.\n",
      "Hindi Translation: उनमें उपेक्षा की भावना नहीं पनपने देना चाहिए.\n",
      "Hindi Prediction: इनकें सनरक्त  के जीगि  चहीं हरााी किखा हाहिए.\n"
     ]
    },
    {
     "name": "stderr",
     "output_type": "stream",
     "text": [
      "203it [00:23,  6.81it/s]"
     ]
    },
    {
     "name": "stdout",
     "output_type": "stream",
     "text": [
      "Evaluation translation (should we go to the mall?) : ('क्या आप क्या है कि क्या है?<END>',)\n",
      "-------------------------------------------\n"
     ]
    },
    {
     "name": "stderr",
     "output_type": "stream",
     "text": [
      "300it [00:33,  9.13it/s]"
     ]
    },
    {
     "name": "stdout",
     "output_type": "stream",
     "text": [
      "Iteration 300 : 1.7423286437988281\n",
      "English: police had used mild force to disperse the crowd.\n",
      "Hindi Translation: ीड़ को तितर-बितर करने के लिए पुलिस ने हल्का बल का प्रयोग भी किया.\n",
      "Hindi Prediction: पडीिके सोर्ापानााकी े के लिए कुलिस के कीाद रका्हर स्रदाग की हिया \n"
     ]
    },
    {
     "name": "stderr",
     "output_type": "stream",
     "text": [
      "303it [00:34,  6.77it/s]"
     ]
    },
    {
     "name": "stdout",
     "output_type": "stream",
     "text": [
      "Evaluation translation (should we go to the mall?) : ('क्या आप क्या है कि क्या है?<END>',)\n",
      "-------------------------------------------\n"
     ]
    },
    {
     "name": "stderr",
     "output_type": "stream",
     "text": [
      "400it [00:45,  8.73it/s]"
     ]
    },
    {
     "name": "stdout",
     "output_type": "stream",
     "text": [
      "Iteration 400 : 1.7796087265014648\n",
      "English: his video is going viral on social media.\n",
      "Hindi Translation: जिसके वीडियो सोशल मीडिया पर वायरल हो रहे हैं.\n",
      "Hindi Prediction: उिसके बाडियो केशल मेडिया कर कियरल हो गहे हैं.\n"
     ]
    },
    {
     "name": "stderr",
     "output_type": "stream",
     "text": [
      "402it [00:45,  5.57it/s]"
     ]
    },
    {
     "name": "stdout",
     "output_type": "stream",
     "text": [
      "Evaluation translation (should we go to the mall?) : ('क्या आप क्या करते हैं?<END>',)\n",
      "-------------------------------------------\n"
     ]
    },
    {
     "name": "stderr",
     "output_type": "stream",
     "text": [
      "500it [00:56,  9.00it/s]"
     ]
    },
    {
     "name": "stdout",
     "output_type": "stream",
     "text": [
      "Iteration 500 : 1.6803064346313477\n",
      "English: two tdp mps resigned from modi govt\n",
      "Hindi Translation: टीडीपी के दो मंत्रियों ने पीएम को सौंपे इस्तीफे\n",
      "Hindi Prediction: क्मी ी के सौ पेद्रीतों के काएम मा कांप \n"
     ]
    },
    {
     "name": "stderr",
     "output_type": "stream",
     "text": [
      "\r501it [00:57,  4.55it/s]"
     ]
    },
    {
     "name": "stdout",
     "output_type": "stream",
     "text": [
      "Evaluation translation (should we go to the mall?) : ('क्या आप क्या है कि क्या है?<END>',)\n",
      "-------------------------------------------\n"
     ]
    },
    {
     "name": "stderr",
     "output_type": "stream",
     "text": [
      "601it [01:08,  5.38it/s]"
     ]
    },
    {
     "name": "stdout",
     "output_type": "stream",
     "text": [
      "Iteration 600 : 1.7312151193618774\n",
      "English: so these are the good things\n",
      "Hindi Translation: वैसे ये बातें यूं ही बरा-ए-बैत हैं\n",
      "Hindi Prediction: केसे कह काद   के  को हा्बदक\n",
      "Evaluation translation (should we go to the mall?) : ('क्या आप क्या कर रहे हैं?<END>',)\n",
      "-------------------------------------------\n"
     ]
    },
    {
     "name": "stderr",
     "output_type": "stream",
     "text": [
      "700it [01:19,  9.13it/s]"
     ]
    },
    {
     "name": "stdout",
     "output_type": "stream",
     "text": [
      "Iteration 700 : 1.638045310974121\n",
      "English: post name: part-time general duty medical consultant\n",
      "Hindi Translation: रिक्ति का नाम: अंशकालिक मेडिकल रेफरी\n",
      "Hindi Prediction: पापार  के पिम  पपतोार क सेंियल कूल ी क ककककककककककककककककककककककककककककककककककककककककककततककक कककिककककककककककककक तकक कक कककतकतककततककककककक कककककककककककककककतककककतक कक्क्कककक कक कका कतितकककककककककतककि  तततककक ातकक\n"
     ]
    },
    {
     "name": "stderr",
     "output_type": "stream",
     "text": [
      "703it [01:19,  6.60it/s]"
     ]
    },
    {
     "name": "stdout",
     "output_type": "stream",
     "text": [
      "Evaluation translation (should we go to the mall?) : ('क्या आप क्या करने के लिए क्या है?<END>',)\n",
      "-------------------------------------------\n"
     ]
    },
    {
     "name": "stderr",
     "output_type": "stream",
     "text": [
      "800it [01:30,  8.72it/s]"
     ]
    },
    {
     "name": "stdout",
     "output_type": "stream",
     "text": [
      "Iteration 800 : 1.6096471548080444\n",
      "English: the committee discharges such other functions as may be assigned to it by the speaker / chairman, rajya sabha, as the case may be, from time to time.\n",
      "Hindi Translation: समिति ऐसे अन्य कृत्यों का निर्वहन करती है जो उसे अध्यक्ष द्वारा या राज्य सभा के सभापति द्वारा, जैसी भी स्थिति हो, समय समय पर सौंपे जाएं.\n",
      "Hindi Prediction: य्ुति कसा अधुय सेष्युं के सिर्दाा के ा है कि सनक सधियक्ष केवारा कह हाज्य क्ी के लाीईाा केवार्  किसे की पीथाति कैन ज्ा केा कर केदपी पानगग\n"
     ]
    },
    {
     "name": "stderr",
     "output_type": "stream",
     "text": [
      "802it [01:31,  5.58it/s]"
     ]
    },
    {
     "name": "stdout",
     "output_type": "stream",
     "text": [
      "Evaluation translation (should we go to the mall?) : ('क्या आप क्या कहां है?<END>',)\n",
      "-------------------------------------------\n"
     ]
    },
    {
     "name": "stderr",
     "output_type": "stream",
     "text": [
      "900it [01:41,  9.17it/s]"
     ]
    },
    {
     "name": "stdout",
     "output_type": "stream",
     "text": [
      "Iteration 900 : 1.6585156917572021\n",
      "English: investment clearance not obtained by state\n",
      "Hindi Translation: निवेश मंजूरी राज्य द्वारा प्राप्त नहीं की गई\n",
      "Hindi Prediction: भिररश केतूरी काजनय केवारा कररभर्त कहीं हर सई कककककककककककककककककककककककककककककककककिकककतकककककककककिकककतकककककककििकककककिककककतककततततकककककवककककककककककककककककककितततकककतककतककककक तििककककितकककककककतकिककककककतकीतककतीककक\n"
     ]
    },
    {
     "name": "stderr",
     "output_type": "stream",
     "text": [
      "902it [01:42,  5.48it/s]"
     ]
    },
    {
     "name": "stdout",
     "output_type": "stream",
     "text": [
      "Evaluation translation (should we go to the mall?) : ('क्या आप क्या करने के लिए क्या है?<END>',)\n",
      "-------------------------------------------\n"
     ]
    },
    {
     "name": "stderr",
     "output_type": "stream",
     "text": [
      "1001it [01:53,  5.48it/s]"
     ]
    },
    {
     "name": "stdout",
     "output_type": "stream",
     "text": [
      "Iteration 1000 : 1.8054876327514648\n",
      "English: why should we not conclude that jehovahs day is a long way off?\n",
      "Hindi Translation: हमें यह निष्कर्ष क्यों नहीं निकालना चाहिए कि यहोवा का दिन बहुत दूर है?\n",
      "Hindi Prediction: कम ं कह कहर्ठा्मिक्यां केीं कहशाल े काहतए?हि कह वा क् किय काुत केस कैं\n",
      "Evaluation translation (should we go to the mall?) : ('क्या आप क्या करना चाहिए?<END>',)\n",
      "-------------------------------------------\n"
     ]
    },
    {
     "name": "stderr",
     "output_type": "stream",
     "text": [
      "1101it [02:05,  5.43it/s]"
     ]
    },
    {
     "name": "stdout",
     "output_type": "stream",
     "text": [
      "Iteration 1100 : 1.634042501449585\n",
      "English: thats the name of our film and so is the news i am sharing.\n",
      "Hindi Translation: यह हमारी फिल्म का नाम है और इसलिए यह खबर साझा कर रहा हूं.\n",
      "Hindi Prediction: इह सैारे हिल्म मी मेम कै कर मस ाए मह सार हेता ही दहे हैं.\n",
      "Evaluation translation (should we go to the mall?) : ('क्या आप क्या करना चाहिए?<END>',)\n",
      "-------------------------------------------\n"
     ]
    },
    {
     "name": "stderr",
     "output_type": "stream",
     "text": [
      "1200it [02:15,  8.92it/s]"
     ]
    },
    {
     "name": "stdout",
     "output_type": "stream",
     "text": [
      "Iteration 1200 : 1.8199617862701416\n",
      "English: i was in the back seat of the car.\n",
      "Hindi Translation: मैं ड्राइवर के पीछे वाली सीट पर था.\n",
      "Hindi Prediction: मैं इॉराइटर के लाछे काले हेटेकर हे.\n"
     ]
    },
    {
     "name": "stderr",
     "output_type": "stream",
     "text": [
      "\r1201it [02:16,  4.61it/s]"
     ]
    },
    {
     "name": "stdout",
     "output_type": "stream",
     "text": [
      "Evaluation translation (should we go to the mall?) : ('क्या आप क्या करते हैं?<END>',)\n",
      "-------------------------------------------\n"
     ]
    },
    {
     "name": "stderr",
     "output_type": "stream",
     "text": [
      "1301it [02:27,  5.57it/s]"
     ]
    },
    {
     "name": "stdout",
     "output_type": "stream",
     "text": [
      "Iteration 1300 : 1.635691523551941\n",
      "English: unable to upload to '%1 '.\n",
      "Hindi Translation: '% 1' पर अपलोड करने में असफल.\n",
      "Hindi Prediction: 1  1  1् कगना  1ो े कें 1पलल \n",
      "Evaluation translation (should we go to the mall?) : ('क्या आप क्या करते हैं?<END>',)\n",
      "-------------------------------------------\n"
     ]
    },
    {
     "name": "stderr",
     "output_type": "stream",
     "text": [
      "1401it [02:39,  5.57it/s]"
     ]
    },
    {
     "name": "stdout",
     "output_type": "stream",
     "text": [
      "Iteration 1400 : 1.6501187086105347\n",
      "English: school teacher dies in freak accident\n",
      "Hindi Translation: स्कूल में हार्ट अटैक से अंग्रेजी शिक्षक की मौत\n",
      "Hindi Prediction: सुटूल कें सोलादीकप्क के पनत्रेस\n",
      "Evaluation translation (should we go to the mall?) : ('क्या आप क्या करते हैं?<END>',)\n",
      "-------------------------------------------\n"
     ]
    },
    {
     "name": "stderr",
     "output_type": "stream",
     "text": [
      "1500it [02:49,  9.06it/s]"
     ]
    },
    {
     "name": "stdout",
     "output_type": "stream",
     "text": [
      "Iteration 1500 : 1.676011085510254\n",
      "English: we constructed the universe with power, and we are expanding it.\n",
      "Hindi Translation: आकाश को हमने अपने हाथ के बल से बनाया और हम बड़ी समाई रखनेवाले है\n",
      "Hindi Prediction: हपार के कमाे कपने पील कि सा्कक कडाया जर हम कऩे केसप हहता ाली कैंककककककककतककिकक क तितकाककतििककतकतकतकतककककि कककतककक ककततततततकतततकतक तततकककककतततकककतकतततककककतक िकककककत  तकताातततककककक ततत कक   तकततत तकककत\n"
     ]
    },
    {
     "name": "stderr",
     "output_type": "stream",
     "text": [
      "1503it [02:50,  7.01it/s]"
     ]
    },
    {
     "name": "stdout",
     "output_type": "stream",
     "text": [
      "Evaluation translation (should we go to the mall?) : ('क्या आप क्या करना चाहिए?<END>',)\n",
      "-------------------------------------------\n"
     ]
    },
    {
     "name": "stderr",
     "output_type": "stream",
     "text": [
      "1600it [03:01,  8.97it/s]"
     ]
    },
    {
     "name": "stdout",
     "output_type": "stream",
     "text": [
      "Iteration 1600 : 1.7451139688491821\n",
      "English: in the interest of farmers\n",
      "Hindi Translation: किसानों के हितों के लिए\n",
      "Hindi Prediction: यिसीनों को बिसां को लिए ीिररककककककर कक कक ककककक ककककककककककककककककााकरकककक  क ककिककिककककककरककि ककतकक ततक कततक कक तकततक तकतततकतककककककििकरकरककककतकतकककरककतततततकत्कककककककरतककाररततरातककककत क कक ककततततककत कतत\n"
     ]
    },
    {
     "name": "stderr",
     "output_type": "stream",
     "text": [
      "\r1601it [03:01,  4.74it/s]"
     ]
    },
    {
     "name": "stdout",
     "output_type": "stream",
     "text": [
      "Evaluation translation (should we go to the mall?) : ('क्या आप क्या करते हैं?<END>',)\n",
      "-------------------------------------------\n"
     ]
    },
    {
     "name": "stderr",
     "output_type": "stream",
     "text": [
      "1700it [03:12,  9.15it/s]"
     ]
    },
    {
     "name": "stdout",
     "output_type": "stream",
     "text": [
      "Iteration 1700 : 1.7430144548416138\n",
      "English: i got a target on my back, though.\n",
      "Hindi Translation: मैं मेरी पीठ पर एक लक्ष्य है, हालांकि मिला.\n",
      "Hindi Prediction: मैं सैरे काए हर कक कि्ष्य है. 'मथा कि हैला \n"
     ]
    },
    {
     "name": "stderr",
     "output_type": "stream",
     "text": [
      "1703it [03:13,  6.98it/s]"
     ]
    },
    {
     "name": "stdout",
     "output_type": "stream",
     "text": [
      "Evaluation translation (should we go to the mall?) : ('क्या आप क्या है कि क्या है?<END>',)\n",
      "-------------------------------------------\n"
     ]
    },
    {
     "name": "stderr",
     "output_type": "stream",
     "text": [
      "1716it [03:14,  8.82it/s]\n"
     ]
    },
    {
     "name": "stdout",
     "output_type": "stream",
     "text": [
      "Epoch 3\n"
     ]
    },
    {
     "name": "stderr",
     "output_type": "stream",
     "text": [
      "\r0it [00:00, ?it/s]"
     ]
    },
    {
     "name": "stdout",
     "output_type": "stream",
     "text": [
      "Iteration 0 : 1.73016357421875\n",
      "English: whosoever desires the reward of the world, with allah is the reward of the world and of the everlasting life. allah is the hearer, the seer.\n",
      "Hindi Translation: और जो शख्स (अपने आमाल का) बदला दुनिया ही में चाहता है तो ख़ुदा के पास दुनिया व आख़िरत दोनों का अज्र मौजूद है और ख़ुदा तो हर शख्स की सुनता और सबको देखता है\n",
      "Hindi Prediction: और हो कु़स ककपने रपान के  कुली केखिया जै हार कुहते कै औो त़ुदा कर लरस केनियाँकेहप़िर  हे ों के कज़ञाकेज़दाकी और ज़ुदा कु कम तख़स कर तेनते हर ते ो तेतते है\n"
     ]
    },
    {
     "name": "stderr",
     "output_type": "stream",
     "text": [
      "2it [00:00,  4.16it/s]"
     ]
    },
    {
     "name": "stdout",
     "output_type": "stream",
     "text": [
      "Evaluation translation (should we go to the mall?) : ('क्या आप क्या करना चाहिए?<END>',)\n",
      "-------------------------------------------\n"
     ]
    },
    {
     "name": "stderr",
     "output_type": "stream",
     "text": [
      "101it [00:11,  5.58it/s]"
     ]
    },
    {
     "name": "stdout",
     "output_type": "stream",
     "text": [
      "Iteration 100 : 1.689736247062683\n",
      "English: a case was then registered against him and he was taken into custody.\n",
      "Hindi Translation: इसके बाद उन्होंने गिरफ़्तारी दी और उनके ख़िलाफ़ मुक़दमा चला.\n",
      "Hindi Prediction: औस े बाद कन्हेंने कारफ् तार  के कर उनकी बिुला   केझा्म  काा \n",
      "Evaluation translation (should we go to the mall?) : ('क्या आप क्या करते हैं?<END>',)\n",
      "-------------------------------------------\n"
     ]
    },
    {
     "name": "stderr",
     "output_type": "stream",
     "text": [
      "201it [00:23,  5.37it/s]"
     ]
    },
    {
     "name": "stdout",
     "output_type": "stream",
     "text": [
      "Iteration 200 : 1.750920057296753\n",
      "English: they shouldn't lose sight of that.\n",
      "Hindi Translation: उनमें उपेक्षा की भावना नहीं पनपने देना चाहिए.\n",
      "Hindi Prediction: इन्ें सनकक्ष  के कीरना कहीं हरााी केखे नाहिए.\n",
      "Evaluation translation (should we go to the mall?) : ('क्या आप क्या करना चाहिए?<END>',)\n",
      "-------------------------------------------\n"
     ]
    },
    {
     "name": "stderr",
     "output_type": "stream",
     "text": [
      "300it [00:33,  8.78it/s]"
     ]
    },
    {
     "name": "stdout",
     "output_type": "stream",
     "text": [
      "Iteration 300 : 1.7058765888214111\n",
      "English: police had used mild force to disperse the crowd.\n",
      "Hindi Translation: ीड़ को तितर-बितर करने के लिए पुलिस ने हल्का बल का प्रयोग भी किया.\n",
      "Hindi Prediction: पडीीके पोहन पालाेके े के बिए क्लिस के कैाका का कि ह्रदोज की हरया \n"
     ]
    },
    {
     "name": "stderr",
     "output_type": "stream",
     "text": [
      "\r301it [00:34,  4.42it/s]"
     ]
    },
    {
     "name": "stdout",
     "output_type": "stream",
     "text": [
      "Evaluation translation (should we go to the mall?) : ('क्या आप क्या है कि क्या है?<END>',)\n",
      "-------------------------------------------\n"
     ]
    },
    {
     "name": "stderr",
     "output_type": "stream",
     "text": [
      "400it [00:45,  9.20it/s]"
     ]
    },
    {
     "name": "stdout",
     "output_type": "stream",
     "text": [
      "Iteration 400 : 1.7625374794006348\n",
      "English: his video is going viral on social media.\n",
      "Hindi Translation: जिसके वीडियो सोशल मीडिया पर वायरल हो रहे हैं.\n",
      "Hindi Prediction: उिसके बिडियो केशल मीडिया कर कियरस हो गही हैं.\n"
     ]
    },
    {
     "name": "stderr",
     "output_type": "stream",
     "text": [
      "403it [00:45,  6.92it/s]"
     ]
    },
    {
     "name": "stdout",
     "output_type": "stream",
     "text": [
      "Evaluation translation (should we go to the mall?) : ('क्या आप क्या है कि क्या है?<END>',)\n",
      "-------------------------------------------\n"
     ]
    },
    {
     "name": "stderr",
     "output_type": "stream",
     "text": [
      "500it [00:56,  9.00it/s]"
     ]
    },
    {
     "name": "stdout",
     "output_type": "stream",
     "text": [
      "Iteration 500 : 1.6893223524093628\n",
      "English: two tdp mps resigned from modi govt\n",
      "Hindi Translation: टीडीपी के दो मंत्रियों ने पीएम को सौंपे इस्तीफे\n",
      "Hindi Prediction: म्मीएी के लौ सेत्रीतों के करएम को कंंप\n"
     ]
    },
    {
     "name": "stderr",
     "output_type": "stream",
     "text": [
      "503it [00:57,  6.84it/s]"
     ]
    },
    {
     "name": "stdout",
     "output_type": "stream",
     "text": [
      "Evaluation translation (should we go to the mall?) : ('क्या आप क्या है कि क्या है?<END>',)\n",
      "-------------------------------------------\n"
     ]
    },
    {
     "name": "stderr",
     "output_type": "stream",
     "text": [
      "601it [01:08,  5.44it/s]"
     ]
    },
    {
     "name": "stdout",
     "output_type": "stream",
     "text": [
      "Iteration 600 : 1.7080968618392944\n",
      "English: so these are the good things\n",
      "Hindi Translation: वैसे ये बातें यूं ही बरा-ए-बैत हैं\n",
      "Hindi Prediction: केसे कह साद   कहन को हा्मकक\n",
      "Evaluation translation (should we go to the mall?) : ('क्या आप क्या करना चाहिए?<END>',)\n",
      "-------------------------------------------\n"
     ]
    },
    {
     "name": "stderr",
     "output_type": "stream",
     "text": [
      "700it [01:19,  8.93it/s]"
     ]
    },
    {
     "name": "stdout",
     "output_type": "stream",
     "text": [
      "Iteration 700 : 1.621987223625183\n",
      "English: post name: part-time general duty medical consultant\n",
      "Hindi Translation: रिक्ति का नाम: अंशकालिक मेडिकल रेफरी\n",
      "Hindi Prediction: पाप्र  पेरपिम  पमतोा  य केंिकल काल   त   कककककक  कक क ककक ककककककक ि ककक   कक ित कतकत त क  किकिककतकक क   क त तक िककक  तततततततकतक क  िककिकककककततककतकतत ततक कक     कककित  क ि तर ाककककककती कक क त तत     कक\n"
     ]
    },
    {
     "name": "stderr",
     "output_type": "stream",
     "text": [
      "702it [01:19,  4.79it/s]"
     ]
    },
    {
     "name": "stdout",
     "output_type": "stream",
     "text": [
      "Evaluation translation (should we go to the mall?) : ('क्या आप क्या करने के लिए क्या है?<END>',)\n",
      "-------------------------------------------\n"
     ]
    },
    {
     "name": "stderr",
     "output_type": "stream",
     "text": [
      "801it [01:31,  5.60it/s]"
     ]
    },
    {
     "name": "stdout",
     "output_type": "stream",
     "text": [
      "Iteration 800 : 1.5910781621932983\n",
      "English: the committee discharges such other functions as may be assigned to it by the speaker / chairman, rajya sabha, as the case may be, from time to time.\n",
      "Hindi Translation: समिति ऐसे अन्य कृत्यों का निर्वहन करती है जो उसे अध्यक्ष द्वारा या राज्य सभा के सभापति द्वारा, जैसी भी स्थिति हो, समय समय पर सौंपे जाएं.\n",
      "Hindi Prediction: सााति कसा पधुय केष्य ं के पिर्भाा केनेयहै कि सनक पपियक्ष सेवारा का हहज्य केी के साीवाा केवारा  जोसे की संथात  कैन ज््ाके् क् केंप  सा गग\n",
      "Evaluation translation (should we go to the mall?) : ('क्या आप क्या कहां है?<END>',)\n",
      "-------------------------------------------\n"
     ]
    },
    {
     "name": "stderr",
     "output_type": "stream",
     "text": [
      "901it [01:42,  5.50it/s]"
     ]
    },
    {
     "name": "stdout",
     "output_type": "stream",
     "text": [
      "Iteration 900 : 1.6449416875839233\n",
      "English: investment clearance not obtained by state\n",
      "Hindi Translation: निवेश मंजूरी राज्य द्वारा प्राप्त नहीं की गई\n",
      "Hindi Prediction: सिरेश केतूर् काजनय किवारा कररभध्त किीं कर मई ककककककककककककककककककककिककककककतकिककककककककतकककिकककककतकककततक कतककिककििकतिक किककतकतततककतककतकतकतककककककककककककककककतततततक ककततककितितिरतकततकतककककताककककककतकतीततककककककक\n",
      "Evaluation translation (should we go to the mall?) : ('क्या आप क्या कहां है?<END>',)\n",
      "-------------------------------------------\n"
     ]
    },
    {
     "name": "stderr",
     "output_type": "stream",
     "text": [
      "1001it [01:53,  5.34it/s]"
     ]
    },
    {
     "name": "stdout",
     "output_type": "stream",
     "text": [
      "Iteration 1000 : 1.788751482963562\n",
      "English: why should we not conclude that jehovahs day is a long way off?\n",
      "Hindi Translation: हमें यह निष्कर्ष क्यों नहीं निकालना चाहिए कि यहोवा का दिन बहुत दूर है?\n",
      "Hindi Prediction: कम ं कहोकेर्ट ्त केयों केीं कहरायीे काहतए?क्नकह वा कर केय काुत केस कै?\n",
      "Evaluation translation (should we go to the mall?) : ('क्या आप क्या करना चाहिए?<END>',)\n",
      "-------------------------------------------\n"
     ]
    },
    {
     "name": "stderr",
     "output_type": "stream",
     "text": [
      "1100it [02:04,  8.88it/s]"
     ]
    },
    {
     "name": "stdout",
     "output_type": "stream",
     "text": [
      "Iteration 1100 : 1.6110366582870483\n",
      "English: thats the name of our film and so is the news i am sharing.\n",
      "Hindi Translation: यह हमारी फिल्म का नाम है और इसलिए यह खबर साझा कर रहा हूं.\n",
      "Hindi Prediction: यह सैारा हिल्म मे महम कै कर मस िए सह म़र हेका री दहे हैं.\n"
     ]
    },
    {
     "name": "stderr",
     "output_type": "stream",
     "text": [
      "1102it [02:05,  5.57it/s]"
     ]
    },
    {
     "name": "stdout",
     "output_type": "stream",
     "text": [
      "Evaluation translation (should we go to the mall?) : ('क्या आप क्या करते हैं?<END>',)\n",
      "-------------------------------------------\n"
     ]
    },
    {
     "name": "stderr",
     "output_type": "stream",
     "text": [
      "1201it [02:16,  5.55it/s]"
     ]
    },
    {
     "name": "stdout",
     "output_type": "stream",
     "text": [
      "Iteration 1200 : 1.7788182497024536\n",
      "English: i was in the back seat of the car.\n",
      "Hindi Translation: मैं ड्राइवर के पीछे वाली सीट पर था.\n",
      "Hindi Prediction: मैं इाराइवर के लाछे मिले हेट कर हान\n",
      "Evaluation translation (should we go to the mall?) : ('क्या आप क्या करते हैं?<END>',)\n",
      "-------------------------------------------\n"
     ]
    },
    {
     "name": "stderr",
     "output_type": "stream",
     "text": [
      "1301it [02:27,  5.65it/s]"
     ]
    },
    {
     "name": "stdout",
     "output_type": "stream",
     "text": [
      "Iteration 1300 : 1.620102047920227\n",
      "English: unable to upload to '%1 '.\n",
      "Hindi Translation: '% 1' पर अपलोड करने में असफल.\n",
      "Hindi Prediction: 1  1  का कपनास कर े किं 1प्ल \n",
      "Evaluation translation (should we go to the mall?) : ('क्या आप क्या करते हैं?<END>',)\n",
      "-------------------------------------------\n"
     ]
    },
    {
     "name": "stderr",
     "output_type": "stream",
     "text": [
      "1400it [02:38,  8.87it/s]"
     ]
    },
    {
     "name": "stdout",
     "output_type": "stream",
     "text": [
      "Iteration 1400 : 1.6254483461380005\n",
      "English: school teacher dies in freak accident\n",
      "Hindi Translation: स्कूल में हार्ट अटैक से अंग्रेजी शिक्षक की मौत\n",
      "Hindi Prediction: काटूल कें कतल्दरकनोक के पधत्रहस  किकाषा कि कौत\n"
     ]
    },
    {
     "name": "stderr",
     "output_type": "stream",
     "text": [
      "1402it [02:39,  5.54it/s]"
     ]
    },
    {
     "name": "stdout",
     "output_type": "stream",
     "text": [
      "Evaluation translation (should we go to the mall?) : ('क्या आप क्या करते हैं?<END>',)\n",
      "-------------------------------------------\n"
     ]
    },
    {
     "name": "stderr",
     "output_type": "stream",
     "text": [
      "1500it [02:49,  8.97it/s]"
     ]
    },
    {
     "name": "stdout",
     "output_type": "stream",
     "text": [
      "Iteration 1500 : 1.6729037761688232\n",
      "English: we constructed the universe with power, and we are expanding it.\n",
      "Hindi Translation: आकाश को हमने अपने हाथ के बल से बनाया और हम बड़ी समाई रखनेवाले है\n",
      "Hindi Prediction: हपिं के कम े कपने पमल कि ला्कक कााया हर जम सत़ा केसप हहने ाले कैंककककककक ककक किकककिकििक ककककतकककककतकक क क   ककककतककक कतकतकततकक ककककक तकक कककककककककककतततकतकतततक कककक    ा  ि ततककककतत  कतततत ीतीतक   कककक\n"
     ]
    },
    {
     "name": "stderr",
     "output_type": "stream",
     "text": [
      "\r1501it [02:50,  4.75it/s]"
     ]
    },
    {
     "name": "stdout",
     "output_type": "stream",
     "text": [
      "Evaluation translation (should we go to the mall?) : ('क्या आप क्या करना चाहिए?<END>',)\n",
      "-------------------------------------------\n"
     ]
    },
    {
     "name": "stderr",
     "output_type": "stream",
     "text": [
      "1601it [03:01,  5.53it/s]"
     ]
    },
    {
     "name": "stdout",
     "output_type": "stream",
     "text": [
      "Iteration 1600 : 1.712814450263977\n",
      "English: in the interest of farmers\n",
      "Hindi Translation: किसानों के हितों के लिए\n",
      "Hindi Prediction: मोसीन ं की बिं्ं को सिए ि   रककत  कतत ककककककककककककक ककक कककरक कककक कक ककककककक क   ककक कककि  ककककक कतकककककक क  क   क कतकततकततकककककक क ककककककीकतककककककत तकतकत    कककक त    रत रतकककककक  ककत   तततत क   ा क\n",
      "Evaluation translation (should we go to the mall?) : ('क्या आप क्या करते हैं?<END>',)\n",
      "-------------------------------------------\n"
     ]
    },
    {
     "name": "stderr",
     "output_type": "stream",
     "text": [
      "1701it [03:12,  5.63it/s]"
     ]
    },
    {
     "name": "stdout",
     "output_type": "stream",
     "text": [
      "Iteration 1700 : 1.7511897087097168\n",
      "English: i got a target on my back, though.\n",
      "Hindi Translation: मैं मेरी पीठ पर एक लक्ष्य है, हालांकि मिला.\n",
      "Hindi Prediction: मैं कैरे मरछ कर कक कि्ष्य है.\n",
      "Evaluation translation (should we go to the mall?) : ('क्या आप क्या करते हैं?<END>',)\n",
      "-------------------------------------------\n"
     ]
    },
    {
     "name": "stderr",
     "output_type": "stream",
     "text": [
      "1716it [03:14,  8.82it/s]\n"
     ]
    },
    {
     "name": "stdout",
     "output_type": "stream",
     "text": [
      "Epoch 4\n"
     ]
    },
    {
     "name": "stderr",
     "output_type": "stream",
     "text": [
      "\r0it [00:00, ?it/s]"
     ]
    },
    {
     "name": "stdout",
     "output_type": "stream",
     "text": [
      "Iteration 0 : 1.710965633392334\n",
      "English: whosoever desires the reward of the world, with allah is the reward of the world and of the everlasting life. allah is the hearer, the seer.\n",
      "Hindi Translation: और जो शख्स (अपने आमाल का) बदला दुनिया ही में चाहता है तो ख़ुदा के पास दुनिया व आख़िरत दोनों का अज्र मौजूद है और ख़ुदा तो हर शख्स की सुनता और सबको देखता है\n",
      "Hindi Prediction: और जो कख्श ककपने कपान कर  काला केकियाँऔै हां सीहत  है औो त़ुदा कर लास केरिया औेकप़िरत के ों को कच़ञतकेत़द कै तर उ़ुदा को तम सु़स कर तेनाा हर (े ो तेखते है\n"
     ]
    },
    {
     "name": "stderr",
     "output_type": "stream",
     "text": [
      "\r1it [00:00,  2.94it/s]"
     ]
    },
    {
     "name": "stdout",
     "output_type": "stream",
     "text": [
      "Evaluation translation (should we go to the mall?) : ('क्या आप क्या करना चाहिए?<END>',)\n",
      "-------------------------------------------\n"
     ]
    },
    {
     "name": "stderr",
     "output_type": "stream",
     "text": [
      "101it [00:11,  5.57it/s]"
     ]
    },
    {
     "name": "stdout",
     "output_type": "stream",
     "text": [
      "Iteration 100 : 1.6439030170440674\n",
      "English: a case was then registered against him and he was taken into custody.\n",
      "Hindi Translation: इसके बाद उन्होंने गिरफ़्तारी दी और उनके ख़िलाफ़ मुक़दमा चला.\n",
      "Hindi Prediction: इस े बाद कन्होंने केरफ् तार  कि कर उनके स़ाला   केश्ाम नकाा \n",
      "Evaluation translation (should we go to the mall?) : ('क्या आप क्या करते हैं?<END>',)\n",
      "-------------------------------------------\n"
     ]
    },
    {
     "name": "stderr",
     "output_type": "stream",
     "text": [
      "200it [00:22,  8.99it/s]"
     ]
    },
    {
     "name": "stdout",
     "output_type": "stream",
     "text": [
      "Iteration 200 : 1.7338773012161255\n",
      "English: they shouldn't lose sight of that.\n",
      "Hindi Translation: उनमें उपेक्षा की भावना नहीं पनपने देना चाहिए.\n",
      "Hindi Prediction: उन्ें सनकक्ष  के सीगनी चहीं हर  ा केखा चाहिए.\n"
     ]
    },
    {
     "name": "stderr",
     "output_type": "stream",
     "text": [
      "\r201it [00:22,  4.91it/s]"
     ]
    },
    {
     "name": "stdout",
     "output_type": "stream",
     "text": [
      "Evaluation translation (should we go to the mall?) : ('क्या आप क्या करते हैं?<END>',)\n",
      "-------------------------------------------\n"
     ]
    },
    {
     "name": "stderr",
     "output_type": "stream",
     "text": [
      "300it [00:33,  9.18it/s]"
     ]
    },
    {
     "name": "stdout",
     "output_type": "stream",
     "text": [
      "Iteration 300 : 1.7057621479034424\n",
      "English: police had used mild force to disperse the crowd.\n",
      "Hindi Translation: ीड़ को तितर-बितर करने के लिए पुलिस ने हल्का बल का प्रयोग भी किया.\n",
      "Hindi Prediction: पडरिके पीह् पाहा के े के लिए पुलिस ने को्दा कनाकर हुरद ग ही हरया \n"
     ]
    },
    {
     "name": "stderr",
     "output_type": "stream",
     "text": [
      "303it [00:34,  6.83it/s]"
     ]
    },
    {
     "name": "stdout",
     "output_type": "stream",
     "text": [
      "Evaluation translation (should we go to the mall?) : ('क्या आप क्या है कि क्या है?<END>',)\n",
      "-------------------------------------------\n"
     ]
    },
    {
     "name": "stderr",
     "output_type": "stream",
     "text": [
      "401it [00:45,  5.53it/s]"
     ]
    },
    {
     "name": "stdout",
     "output_type": "stream",
     "text": [
      "Iteration 400 : 1.7253475189208984\n",
      "English: his video is going viral on social media.\n",
      "Hindi Translation: जिसके वीडियो सोशल मीडिया पर वायरल हो रहे हैं.\n",
      "Hindi Prediction: उिसके बिडियो केशल मीडिया कर हियरल है गहा हैं.\n",
      "Evaluation translation (should we go to the mall?) : ('क्या आप क्या करते हैं?<END>',)\n",
      "-------------------------------------------\n"
     ]
    },
    {
     "name": "stderr",
     "output_type": "stream",
     "text": [
      "500it [00:56,  8.91it/s]"
     ]
    },
    {
     "name": "stdout",
     "output_type": "stream",
     "text": [
      "Iteration 500 : 1.6514657735824585\n",
      "English: two tdp mps resigned from modi govt\n",
      "Hindi Translation: टीडीपी के दो मंत्रियों ने पीएम को सौंपे इस्तीफे\n",
      "Hindi Prediction: प्मी ी का लो मेद्रातों के काए  का पमंप जकं्तीफा कककककककककककरकककककककककककककक ककककतक तकीिककक किकक कतकक क कककककक कककक  क तक ककततककककककककककककककककककतककककककककतत क  कककककक  र कति रततकककककत कततक तक कतत   क ककक\n"
     ]
    },
    {
     "name": "stderr",
     "output_type": "stream",
     "text": [
      "503it [00:57,  6.35it/s]"
     ]
    },
    {
     "name": "stdout",
     "output_type": "stream",
     "text": [
      "Evaluation translation (should we go to the mall?) : ('क्या आप क्या है कि क्या है?<END>',)\n",
      "-------------------------------------------\n"
     ]
    },
    {
     "name": "stderr",
     "output_type": "stream",
     "text": [
      "600it [01:07,  8.99it/s]"
     ]
    },
    {
     "name": "stdout",
     "output_type": "stream",
     "text": [
      "Iteration 600 : 1.7042206525802612\n",
      "English: so these are the good things\n",
      "Hindi Translation: वैसे ये बातें यूं ही बरा-ए-बैत हैं\n",
      "Hindi Prediction: केसे हह काद   कहनकको हाा दक\n"
     ]
    },
    {
     "name": "stderr",
     "output_type": "stream",
     "text": [
      "602it [01:08,  5.61it/s]"
     ]
    },
    {
     "name": "stdout",
     "output_type": "stream",
     "text": [
      "Evaluation translation (should we go to the mall?) : ('क्या आप क्या करना चाहिए?<END>',)\n",
      "-------------------------------------------\n"
     ]
    },
    {
     "name": "stderr",
     "output_type": "stream",
     "text": [
      "700it [01:19,  9.14it/s]"
     ]
    },
    {
     "name": "stdout",
     "output_type": "stream",
     "text": [
      "Iteration 700 : 1.5843788385391235\n",
      "English: post name: part-time general duty medical consultant\n",
      "Hindi Translation: रिक्ति का नाम: अंशकालिक मेडिकल रेफरी\n",
      "Hindi Prediction: पापात  पे मेम  पपताार य केंियल कहल्  कककक ककककककक ककतककककक ककककककककककककक  ककक कक ताक कककक कककककककक  कक  कककककक तककक   ततकतककककककककककककककककककककककककक तकतक कक कककक  क त त कातलतककककककक क क     तत  त  कक क\n"
     ]
    },
    {
     "name": "stderr",
     "output_type": "stream",
     "text": [
      "703it [01:19,  6.41it/s]"
     ]
    },
    {
     "name": "stdout",
     "output_type": "stream",
     "text": [
      "Evaluation translation (should we go to the mall?) : ('क्या आप को क्या करने के लिए क्या है?<END>',)\n",
      "-------------------------------------------\n"
     ]
    },
    {
     "name": "stderr",
     "output_type": "stream",
     "text": [
      "801it [01:30,  5.66it/s]"
     ]
    },
    {
     "name": "stdout",
     "output_type": "stream",
     "text": [
      "Iteration 800 : 1.5624052286148071\n",
      "English: the committee discharges such other functions as may be assigned to it by the speaker / chairman, rajya sabha, as the case may be, from time to time.\n",
      "Hindi Translation: समिति ऐसे अन्य कृत्यों का निर्वहन करती है जो उसे अध्यक्ष द्वारा या राज्य सभा के सभापति द्वारा, जैसी भी स्थिति हो, समय समय पर सौंपे जाएं.\n",
      "Hindi Prediction: य्ाति कसा अधुय सेषियुं के किर्मा  केते है कि कनक पधियक्ष केवारा का गहज्य केी की साीरा  केवारा  उिसे की पाथात  कैन जाय क्ि क् सेदपी मानगग\n",
      "Evaluation translation (should we go to the mall?) : ('क्या आप क्या कहां है?<END>',)\n",
      "-------------------------------------------\n"
     ]
    },
    {
     "name": "stderr",
     "output_type": "stream",
     "text": [
      "900it [01:41,  9.00it/s]"
     ]
    },
    {
     "name": "stdout",
     "output_type": "stream",
     "text": [
      "Iteration 900 : 1.6141589879989624\n",
      "English: investment clearance not obtained by state\n",
      "Hindi Translation: निवेश मंजूरी राज्य द्वारा प्राप्त नहीं की गई\n",
      "Hindi Prediction: इिरेशनमेतूरी काज्य किवारा कररयर्त कहीं कर मि ककककककककककककककककककककतककककतककककककककतकतततकिततककककककककततततततकककितिकककककतकत ततकततततततककककतकककककककककतककतततकतकतततततक्कककककक् ततक ततिरततकककककतककततततकक ततततत  तकतक\n"
     ]
    },
    {
     "name": "stderr",
     "output_type": "stream",
     "text": [
      "902it [01:42,  4.84it/s]"
     ]
    },
    {
     "name": "stdout",
     "output_type": "stream",
     "text": [
      "Evaluation translation (should we go to the mall?) : ('क्या आप क्या करने के लिए क्या है?<END>',)\n",
      "-------------------------------------------\n"
     ]
    },
    {
     "name": "stderr",
     "output_type": "stream",
     "text": [
      "1000it [01:53,  8.95it/s]"
     ]
    },
    {
     "name": "stdout",
     "output_type": "stream",
     "text": [
      "Iteration 1000 : 1.774971842765808\n",
      "English: why should we not conclude that jehovahs day is a long way off?\n",
      "Hindi Translation: हमें यह निष्कर्ष क्यों नहीं निकालना चाहिए कि यहोवा का दिन बहुत दूर है?\n",
      "Hindi Prediction: आम ं कह किर्क ्ष क्यों केीं कहमाल े चाहिए?क् कह वा क् केख काुत हेस कै?\n"
     ]
    },
    {
     "name": "stderr",
     "output_type": "stream",
     "text": [
      "1002it [01:53,  5.62it/s]"
     ]
    },
    {
     "name": "stdout",
     "output_type": "stream",
     "text": [
      "Evaluation translation (should we go to the mall?) : ('क्या आप क्या करना चाहिए?<END>',)\n",
      "-------------------------------------------\n"
     ]
    },
    {
     "name": "stderr",
     "output_type": "stream",
     "text": [
      "1101it [02:05,  5.61it/s]"
     ]
    },
    {
     "name": "stdout",
     "output_type": "stream",
     "text": [
      "Iteration 1100 : 1.5873794555664062\n",
      "English: thats the name of our film and so is the news i am sharing.\n",
      "Hindi Translation: यह हमारी फिल्म का नाम है और इसलिए यह खबर साझा कर रहा हूं.\n",
      "Hindi Prediction: यह मैनरी हिल्म मे महम कै कर मस िए कह सुर हेमा सर रहा हैं.\n",
      "Evaluation translation (should we go to the mall?) : ('क्या आप क्या करते हैं?<END>',)\n",
      "-------------------------------------------\n"
     ]
    },
    {
     "name": "stderr",
     "output_type": "stream",
     "text": [
      "1201it [02:16,  5.40it/s]"
     ]
    },
    {
     "name": "stdout",
     "output_type": "stream",
     "text": [
      "Iteration 1200 : 1.7958223819732666\n",
      "English: i was in the back seat of the car.\n",
      "Hindi Translation: मैं ड्राइवर के पीछे वाली सीट पर था.\n",
      "Hindi Prediction: मैं इिरेमकर के लाछे माया हेम कर हा.\n",
      "Evaluation translation (should we go to the mall?) : ('क्या आप क्या करना चाहिए?<END>',)\n",
      "-------------------------------------------\n"
     ]
    },
    {
     "name": "stderr",
     "output_type": "stream",
     "text": [
      "1300it [02:27,  8.74it/s]"
     ]
    },
    {
     "name": "stdout",
     "output_type": "stream",
     "text": [
      "Iteration 1300 : 1.5940382480621338\n",
      "English: unable to upload to '%1 '.\n",
      "Hindi Translation: '% 1' पर अपलोड करने में असफल.\n",
      "Hindi Prediction: 1  1  1र 1पनेड 1े ा वें 1पलल \n"
     ]
    },
    {
     "name": "stderr",
     "output_type": "stream",
     "text": [
      "1302it [02:27,  5.32it/s]"
     ]
    },
    {
     "name": "stdout",
     "output_type": "stream",
     "text": [
      "Evaluation translation (should we go to the mall?) : ('क्या आप क्या करना चाहिए?<END>',)\n",
      "-------------------------------------------\n"
     ]
    },
    {
     "name": "stderr",
     "output_type": "stream",
     "text": [
      "1400it [02:38,  9.08it/s]"
     ]
    },
    {
     "name": "stdout",
     "output_type": "stream",
     "text": [
      "Iteration 1400 : 1.617051124572754\n",
      "English: school teacher dies in freak accident\n",
      "Hindi Translation: स्कूल में हार्ट अटैक से अंग्रेजी शिक्षक की मौत\n",
      "Hindi Prediction: साथूल कें कोल दीकप्क के सनत्रेस  काक्षा का कौत\n"
     ]
    },
    {
     "name": "stderr",
     "output_type": "stream",
     "text": [
      "1402it [02:39,  5.51it/s]"
     ]
    },
    {
     "name": "stdout",
     "output_type": "stream",
     "text": [
      "Evaluation translation (should we go to the mall?) : ('क्या आप क्या करने के लिए क्या है?<END>',)\n",
      "-------------------------------------------\n"
     ]
    },
    {
     "name": "stderr",
     "output_type": "stream",
     "text": [
      "1501it [02:50,  5.47it/s]"
     ]
    },
    {
     "name": "stdout",
     "output_type": "stream",
     "text": [
      "Iteration 1500 : 1.6504793167114258\n",
      "English: we constructed the universe with power, and we are expanding it.\n",
      "Hindi Translation: आकाश को हमने अपने हाथ के बल से बनाया और हम बड़ी समाई रखनेवाले है\n",
      "Hindi Prediction: हप र के कमाे कपने पमल कि ला्के कााया जर कम का़ी हेाप हहते ा   हैंकिककककककतकक िककततक कक ककककककककककककककक क ककतकककककककत कतकततततकककककककककककककक कककककककककततकतकतक  ्कककककक  का   तकलकककककत ीकककक   ततकततक  ककक\n",
      "Evaluation translation (should we go to the mall?) : ('क्या आप क्या करना चाहिए?<END>',)\n",
      "-------------------------------------------\n"
     ]
    },
    {
     "name": "stderr",
     "output_type": "stream",
     "text": [
      "1600it [03:01,  9.18it/s]"
     ]
    },
    {
     "name": "stdout",
     "output_type": "stream",
     "text": [
      "Iteration 1600 : 1.700801968574524\n",
      "English: in the interest of farmers\n",
      "Hindi Translation: किसानों के हितों के लिए\n",
      "Hindi Prediction: मोसीनों को लिं ं को बिए त करककत ककककततकिककककककककककक कककककककककक ककककतकककककककतकककतततकततिकतकककक कक कककक  त कक ककककक    कतकततकतततकतकक त तककककककतकककककककाकततततकककतकककक्त र  ााराा तततककककत ाकततक तततततककक ककक\n"
     ]
    },
    {
     "name": "stderr",
     "output_type": "stream",
     "text": [
      "1603it [03:01,  6.83it/s]"
     ]
    },
    {
     "name": "stdout",
     "output_type": "stream",
     "text": [
      "Evaluation translation (should we go to the mall?) : ('क्या आप क्या करें क्या है?<END>',)\n",
      "-------------------------------------------\n"
     ]
    },
    {
     "name": "stderr",
     "output_type": "stream",
     "text": [
      "1700it [03:12,  8.73it/s]"
     ]
    },
    {
     "name": "stdout",
     "output_type": "stream",
     "text": [
      "Iteration 1700 : 1.7286291122436523\n",
      "English: i got a target on my back, though.\n",
      "Hindi Translation: मैं मेरी पीठ पर एक लक्ष्य है, हालांकि मिला.\n",
      "Hindi Prediction: मैं उैरे साड कर कक सि्ष्म है. 'मथां ि कैल  \n"
     ]
    },
    {
     "name": "stderr",
     "output_type": "stream",
     "text": [
      "\r1701it [03:13,  4.64it/s]"
     ]
    },
    {
     "name": "stdout",
     "output_type": "stream",
     "text": [
      "Evaluation translation (should we go to the mall?) : ('क्या आप क्या कर रहे हैं?<END>',)\n",
      "-------------------------------------------\n"
     ]
    },
    {
     "name": "stderr",
     "output_type": "stream",
     "text": [
      "1716it [03:14,  8.81it/s]\n"
     ]
    }
   ],
   "source": [
    "transformer.train()\n",
    "transformer.to(device)\n",
    "total_loss = 0\n",
    "num_epochs = 5\n",
    "\n",
    "for epoch in range(num_epochs):\n",
    "    print(f\"Epoch {epoch}\")\n",
    "    iterator = iter(train_loader)\n",
    "    for batch_num, batch in tqdm(enumerate(iterator)):\n",
    "        transformer.train()\n",
    "        eng_batch, hi_batch = batch\n",
    "        encoder_self_attention_mask, decoder_self_attention_mask, decoder_cross_attention_mask = create_masks(eng_batch, hi_batch)\n",
    "        optim.zero_grad()\n",
    "        hi_predictions = transformer(eng_batch,\n",
    "                                     hi_batch,\n",
    "                                     encoder_self_attention_mask.to(device),\n",
    "                                     decoder_self_attention_mask.to(device),\n",
    "                                     decoder_cross_attention_mask.to(device),\n",
    "                                     enc_start_token=False,\n",
    "                                     enc_end_token=False,\n",
    "                                     dec_start_token=True,\n",
    "                                     dec_end_token=True)\n",
    "        labels = transformer.decoder.sentence_embedding.batch_tokenize(hi_batch, start_token=False, end_token=True)\n",
    "        loss = criterian(\n",
    "            hi_predictions.view(-1, hi_vocab_size).to(device),\n",
    "            labels.view(-1).to(device)\n",
    "        ).to(device)\n",
    "        valid_indicies = torch.where(labels.view(-1) == hindi_to_index[PADDING_TOKEN], False, True)\n",
    "        loss = loss.sum() / valid_indicies.sum()\n",
    "        loss.backward()\n",
    "        optim.step()\n",
    "        #train_losses.append(loss.item())\n",
    "        if batch_num % 100 == 0:\n",
    "            print(f\"Iteration {batch_num} : {loss.item()}\")\n",
    "            print(f\"English: {eng_batch[0]}\")\n",
    "            print(f\"Hindi Translation: {hi_batch[0]}\")\n",
    "            hi_sentence_predicted = torch.argmax(hi_predictions[0], axis=1)\n",
    "            predicted_sentence = \"\"\n",
    "            for idx in hi_sentence_predicted:\n",
    "              if idx == hindi_to_index[END_TOKEN]:\n",
    "                break\n",
    "              predicted_sentence += index_to_hindi[idx.item()]\n",
    "            print(f\"Hindi Prediction: {predicted_sentence}\")\n",
    "\n",
    "\n",
    "            transformer.eval()\n",
    "            kn_sentence = (\"\",)\n",
    "            eng_sentence = (\"should we go to the mall?\",)\n",
    "            for word_counter in range(max_sequence_length):\n",
    "                encoder_self_attention_mask, decoder_self_attention_mask, decoder_cross_attention_mask= create_masks(eng_sentence, kn_sentence)\n",
    "                predictions = transformer(eng_sentence,\n",
    "                                          kn_sentence,\n",
    "                                          encoder_self_attention_mask.to(device),\n",
    "                                          decoder_self_attention_mask.to(device),\n",
    "                                          decoder_cross_attention_mask.to(device),\n",
    "                                          enc_start_token=False,\n",
    "                                          enc_end_token=False,\n",
    "                                          dec_start_token=True,\n",
    "                                          dec_end_token=False)\n",
    "                next_token_prob_distribution = predictions[0][word_counter] # not actual probs\n",
    "                next_token_index = torch.argmax(next_token_prob_distribution).item()\n",
    "                next_token = index_to_hindi[next_token_index]\n",
    "                kn_sentence = (kn_sentence[0] + next_token, )\n",
    "                if next_token == END_TOKEN:\n",
    "                  break\n",
    "\n",
    "            print(f\"Evaluation translation (should we go to the mall?) : {kn_sentence}\")\n",
    "            print(\"-------------------------------------------\")"
   ]
  },
  {
   "cell_type": "markdown",
   "metadata": {
    "id": "ofqVvYGDuQde"
   },
   "source": [
    "## Inference"
   ]
  },
  {
   "cell_type": "code",
   "execution_count": null,
   "metadata": {
    "id": "SUV58v3EaDyz"
   },
   "outputs": [],
   "source": [
    "transformer.eval()\n",
    "def translate(eng_sentence):\n",
    "  eng_sentence = (eng_sentence.lower(),)\n",
    "  hi_sentence = (\"\",)\n",
    "  for word_counter in range(max_sequence_length):\n",
    "    encoder_self_attention_mask, decoder_self_attention_mask, decoder_cross_attention_mask= create_masks(eng_sentence, hi_sentence)\n",
    "    predictions = transformer(eng_sentence,\n",
    "                              hi_sentence,\n",
    "                              encoder_self_attention_mask.to(device),\n",
    "                              decoder_self_attention_mask.to(device),\n",
    "                              decoder_cross_attention_mask.to(device),\n",
    "                              enc_start_token=False,\n",
    "                              enc_end_token=False,\n",
    "                              dec_start_token=True,\n",
    "                              dec_end_token=False)\n",
    "    next_token_prob_distribution = predictions[0][word_counter]\n",
    "    next_token_index = torch.argmax(next_token_prob_distribution).item()\n",
    "    next_token = index_to_hindi[next_token_index]\n",
    "    hi_sentence = (hi_sentence[0] + next_token, )\n",
    "    if next_token == END_TOKEN:\n",
    "      break\n",
    "  return hi_sentence[0]"
   ]
  },
  {
   "cell_type": "code",
   "execution_count": null,
   "metadata": {
    "colab": {
     "base_uri": "https://localhost:8080/"
    },
    "executionInfo": {
     "elapsed": 174,
     "status": "ok",
     "timestamp": 1740194840493,
     "user": {
      "displayName": "imran khan",
      "userId": "04717711026660830603"
     },
     "user_tz": -330
    },
    "id": "YSziQxFai-Qu",
    "outputId": "ba68a74e-5895-4197-8905-190919e8b254"
   },
   "outputs": [
    {
     "name": "stdout",
     "output_type": "stream",
     "text": [
      "क्यों को क्यों करें<END>\n"
     ]
    }
   ],
   "source": [
    "translation = translate(\"how are you\")\n",
    "print(translation)"
   ]
  },
  {
   "cell_type": "code",
   "execution_count": null,
   "metadata": {
    "colab": {
     "base_uri": "https://localhost:8080/"
    },
    "executionInfo": {
     "elapsed": 221,
     "status": "ok",
     "timestamp": 1740194917453,
     "user": {
      "displayName": "imran khan",
      "userId": "04717711026660830603"
     },
     "user_tz": -330
    },
    "id": "RddR5vGSjASf",
    "outputId": "1594b604-1293-4a5d-b224-116618971164"
   },
   "outputs": [
    {
     "name": "stdout",
     "output_type": "stream",
     "text": [
      "भारत के बाद करने की संभाव<END>\n"
     ]
    }
   ],
   "source": [
    "translation = translate(\"india is a nice country\")\n",
    "print(translation)"
   ]
  },
  {
   "cell_type": "code",
   "execution_count": null,
   "metadata": {
    "id": "BuoJv1FhnDdw"
   },
   "outputs": [],
   "source": [
    "torch.save(transformer, \"/content/drive/MyDrive/Image Captioning/transformer_model.pth\")"
   ]
  }
 ],
 "metadata": {
  "accelerator": "GPU",
  "colab": {
   "authorship_tag": "ABX9TyNO0y+WHuvWFkhEgFpEA5pl",
   "gpuType": "T4",
   "mount_file_id": "1rS1f3yOdI0ulpNjwqDvG0IH07-6B3R4k",
   "provenance": []
  },
  "kernelspec": {
   "display_name": "venv",
   "language": "python",
   "name": "python3"
  },
  "language_info": {
   "name": "python",
   "version": "3.11.9"
  }
 },
 "nbformat": 4,
 "nbformat_minor": 0
}
